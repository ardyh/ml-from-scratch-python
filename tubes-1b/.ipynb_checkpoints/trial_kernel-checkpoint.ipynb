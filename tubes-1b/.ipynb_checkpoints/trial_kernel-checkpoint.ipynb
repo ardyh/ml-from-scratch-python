{
 "cells": [
  {
   "cell_type": "code",
   "execution_count": 2,
   "metadata": {},
   "outputs": [],
   "source": [
    "import pandas as pd\n",
    "import numpy as np\n",
    "import math"
   ]
  },
  {
   "cell_type": "code",
   "execution_count": 3,
   "metadata": {},
   "outputs": [
    {
     "data": {
      "text/html": [
       "<div>\n",
       "<style scoped>\n",
       "    .dataframe tbody tr th:only-of-type {\n",
       "        vertical-align: middle;\n",
       "    }\n",
       "\n",
       "    .dataframe tbody tr th {\n",
       "        vertical-align: top;\n",
       "    }\n",
       "\n",
       "    .dataframe thead th {\n",
       "        text-align: right;\n",
       "    }\n",
       "</style>\n",
       "<table border=\"1\" class=\"dataframe\">\n",
       "  <thead>\n",
       "    <tr style=\"text-align: right;\">\n",
       "      <th></th>\n",
       "      <th>day</th>\n",
       "      <th>outlook</th>\n",
       "      <th>temp</th>\n",
       "      <th>humidity</th>\n",
       "      <th>wind</th>\n",
       "      <th>play</th>\n",
       "    </tr>\n",
       "  </thead>\n",
       "  <tbody>\n",
       "    <tr>\n",
       "      <th>0</th>\n",
       "      <td>D1</td>\n",
       "      <td>Sunny</td>\n",
       "      <td>Hot</td>\n",
       "      <td>High</td>\n",
       "      <td>Weak</td>\n",
       "      <td>No</td>\n",
       "    </tr>\n",
       "    <tr>\n",
       "      <th>1</th>\n",
       "      <td>D2</td>\n",
       "      <td>Sunny</td>\n",
       "      <td>Hot</td>\n",
       "      <td>High</td>\n",
       "      <td>Strong</td>\n",
       "      <td>No</td>\n",
       "    </tr>\n",
       "    <tr>\n",
       "      <th>2</th>\n",
       "      <td>D3</td>\n",
       "      <td>Overcast</td>\n",
       "      <td>Hot</td>\n",
       "      <td>High</td>\n",
       "      <td>Weak</td>\n",
       "      <td>Yes</td>\n",
       "    </tr>\n",
       "    <tr>\n",
       "      <th>3</th>\n",
       "      <td>D4</td>\n",
       "      <td>Rain</td>\n",
       "      <td>Mild</td>\n",
       "      <td>High</td>\n",
       "      <td>Weak</td>\n",
       "      <td>Yes</td>\n",
       "    </tr>\n",
       "    <tr>\n",
       "      <th>4</th>\n",
       "      <td>D5</td>\n",
       "      <td>Rain</td>\n",
       "      <td>Cool</td>\n",
       "      <td>Normal</td>\n",
       "      <td>Weak</td>\n",
       "      <td>Yes</td>\n",
       "    </tr>\n",
       "    <tr>\n",
       "      <th>5</th>\n",
       "      <td>D6</td>\n",
       "      <td>Rain</td>\n",
       "      <td>Cool</td>\n",
       "      <td>Normal</td>\n",
       "      <td>Strong</td>\n",
       "      <td>No</td>\n",
       "    </tr>\n",
       "    <tr>\n",
       "      <th>6</th>\n",
       "      <td>D7</td>\n",
       "      <td>Overcast</td>\n",
       "      <td>Cool</td>\n",
       "      <td>Normal</td>\n",
       "      <td>Strong</td>\n",
       "      <td>Yes</td>\n",
       "    </tr>\n",
       "    <tr>\n",
       "      <th>7</th>\n",
       "      <td>D8</td>\n",
       "      <td>Sunny</td>\n",
       "      <td>Mild</td>\n",
       "      <td>High</td>\n",
       "      <td>Weak</td>\n",
       "      <td>No</td>\n",
       "    </tr>\n",
       "    <tr>\n",
       "      <th>8</th>\n",
       "      <td>D9</td>\n",
       "      <td>Sunny</td>\n",
       "      <td>Cool</td>\n",
       "      <td>Normal</td>\n",
       "      <td>Weak</td>\n",
       "      <td>Yes</td>\n",
       "    </tr>\n",
       "    <tr>\n",
       "      <th>9</th>\n",
       "      <td>D10</td>\n",
       "      <td>Rain</td>\n",
       "      <td>Mild</td>\n",
       "      <td>Normal</td>\n",
       "      <td>Weak</td>\n",
       "      <td>Yes</td>\n",
       "    </tr>\n",
       "    <tr>\n",
       "      <th>10</th>\n",
       "      <td>D11</td>\n",
       "      <td>Sunny</td>\n",
       "      <td>Mild</td>\n",
       "      <td>Normal</td>\n",
       "      <td>Strong</td>\n",
       "      <td>Yes</td>\n",
       "    </tr>\n",
       "    <tr>\n",
       "      <th>11</th>\n",
       "      <td>D12</td>\n",
       "      <td>Overcast</td>\n",
       "      <td>Mild</td>\n",
       "      <td>High</td>\n",
       "      <td>Strong</td>\n",
       "      <td>Yes</td>\n",
       "    </tr>\n",
       "    <tr>\n",
       "      <th>12</th>\n",
       "      <td>D13</td>\n",
       "      <td>Overcast</td>\n",
       "      <td>Hot</td>\n",
       "      <td>Normal</td>\n",
       "      <td>Weak</td>\n",
       "      <td>Yes</td>\n",
       "    </tr>\n",
       "    <tr>\n",
       "      <th>13</th>\n",
       "      <td>D14</td>\n",
       "      <td>Rain</td>\n",
       "      <td>Mild</td>\n",
       "      <td>High</td>\n",
       "      <td>Strong</td>\n",
       "      <td>No</td>\n",
       "    </tr>\n",
       "  </tbody>\n",
       "</table>\n",
       "</div>"
      ],
      "text/plain": [
       "    day   outlook  temp humidity    wind play\n",
       "0    D1     Sunny   Hot     High    Weak   No\n",
       "1    D2     Sunny   Hot     High  Strong   No\n",
       "2    D3  Overcast   Hot     High    Weak  Yes\n",
       "3    D4      Rain  Mild     High    Weak  Yes\n",
       "4    D5      Rain  Cool   Normal    Weak  Yes\n",
       "5    D6      Rain  Cool   Normal  Strong   No\n",
       "6    D7  Overcast  Cool   Normal  Strong  Yes\n",
       "7    D8     Sunny  Mild     High    Weak   No\n",
       "8    D9     Sunny  Cool   Normal    Weak  Yes\n",
       "9   D10      Rain  Mild   Normal    Weak  Yes\n",
       "10  D11     Sunny  Mild   Normal  Strong  Yes\n",
       "11  D12  Overcast  Mild     High  Strong  Yes\n",
       "12  D13  Overcast   Hot   Normal    Weak  Yes\n",
       "13  D14      Rain  Mild     High  Strong   No"
      ]
     },
     "execution_count": 3,
     "metadata": {},
     "output_type": "execute_result"
    }
   ],
   "source": [
    "data = pd.read_csv(\"play_tennis.csv\")\n",
    "data"
   ]
  },
  {
   "cell_type": "code",
   "execution_count": 3,
   "metadata": {},
   "outputs": [],
   "source": [
    "#hitung entropi total dataset\n",
    "def total_entropy(data):\n",
    "    proportion = data['aktivitas'].value_counts()/len(data)\n",
    "    entropy = 0\n",
    "    for p in proportion.tolist():\n",
    "        entropy -= p*math.log(p,2)\n",
    "    return entropy\n",
    "\n",
    "#hitung information gain dari suatu kolom\n",
    "def gain(data, kolom):\n",
    "    data_entropy = total_entropy(data)\n",
    "    print('KOLOM:', kolom.upper())\n",
    "    print('total entropy of current data', '=',data_entropy)\n",
    "    proportion_kolom = data[kolom].value_counts()/len(data)\n",
    "    sum_entropy_kolom = 0\n",
    "    for value_kolom, value_proportion in zip(proportion_kolom.index.tolist(), proportion_kolom.tolist()):\n",
    "        entropy_value_kolom = total_entropy(data[data[kolom] == value_kolom])\n",
    "        sum_entropy_kolom -= value_proportion*entropy_value_kolom\n",
    "        print('value entropy kolom for', kolom, ':', value_kolom, ':', value_proportion, '=', entropy_value_kolom )\n",
    "    print('sum entropy kolom for', kolom, '=', sum_entropy_kolom)\n",
    "    return data_entropy + sum_entropy_kolom\n",
    "\n",
    "#get current_data\n",
    "def get_node_data(data, kolom, value):\n",
    "    new_data = data[data[kolom] == value]\n",
    "    return new_data.drop(kolom, axis=1)\n",
    "\n",
    "#get current_columns\n",
    "def get_current_columns(data):\n",
    "    return data.drop('aktivitas', axis=1).columns"
   ]
  },
  {
   "cell_type": "markdown",
   "metadata": {},
   "source": [
    "### Iterasi 1"
   ]
  },
  {
   "cell_type": "code",
   "execution_count": 4,
   "metadata": {},
   "outputs": [
    {
     "name": "stdout",
     "output_type": "stream",
     "text": [
      "KOLOM: DEADLINE\n",
      "total entropy of current data = 1.6854752972273346\n",
      "value entropy kolom for deadline : dekat : 0.4 = 1.5\n",
      "value entropy kolom for deadline : urgent : 0.3 = 0.9182958340544896\n",
      "value entropy kolom for deadline : tidak ada : 0.3 = 0.9182958340544896\n",
      "sum entropy kolom for deadline = -1.1509775004326936\n",
      "gain deadline : 0.5344977967946409\n",
      "KOLOM: ADA HANGOUT\n",
      "total entropy of current data = 1.6854752972273346\n",
      "value entropy kolom for ada hangout : tidak : 0.5 = 1.3709505944546687\n",
      "value entropy kolom for ada hangout : ya : 0.5 = 0.0\n",
      "sum entropy kolom for ada hangout = -0.6854752972273344\n",
      "gain ada hangout : 1.0000000000000002\n",
      "KOLOM: MALAS\n",
      "total entropy of current data = 1.6854752972273346\n",
      "value entropy kolom for malas : ya : 0.6 = 1.7924812503605778\n",
      "value entropy kolom for malas : tidak : 0.4 = 1.0\n",
      "sum entropy kolom for malas = -1.4754887502163467\n",
      "gain malas : 0.20998654701098785\n",
      "GAINS\n",
      " deadline       0.534498\n",
      "ada hangout    1.000000\n",
      "malas          0.209987\n",
      "dtype: float64\n",
      "AKTIVITAS TERKAIT ['kumpul2', 'belajar', 'jalan2', 'nonton']\n"
     ]
    }
   ],
   "source": [
    "current_data = data\n",
    "current_gains = []\n",
    "for kolom in get_current_columns(current_data):\n",
    "    gain_kolom = gain(current_data, kolom)\n",
    "    print(\"gain\", kolom, \":\", gain_kolom)\n",
    "    current_gains.append([kolom, gain_kolom])\n",
    "current_gains = pd.Series([x[1] for x in current_gains], index=[x[0] for x in current_gains])\n",
    "print('GAINS\\n', current_gains)\n",
    "print('AKTIVITAS TERKAIT', current_data['aktivitas'].value_counts().index.tolist())"
   ]
  },
  {
   "cell_type": "code",
   "execution_count": 5,
   "metadata": {},
   "outputs": [
    {
     "data": {
      "text/html": [
       "<div>\n",
       "<style scoped>\n",
       "    .dataframe tbody tr th:only-of-type {\n",
       "        vertical-align: middle;\n",
       "    }\n",
       "\n",
       "    .dataframe tbody tr th {\n",
       "        vertical-align: top;\n",
       "    }\n",
       "\n",
       "    .dataframe thead th {\n",
       "        text-align: right;\n",
       "    }\n",
       "</style>\n",
       "<table border=\"1\" class=\"dataframe\">\n",
       "  <thead>\n",
       "    <tr style=\"text-align: right;\">\n",
       "      <th></th>\n",
       "      <th>deadline</th>\n",
       "      <th>ada hangout</th>\n",
       "      <th>malas</th>\n",
       "      <th>aktivitas</th>\n",
       "    </tr>\n",
       "  </thead>\n",
       "  <tbody>\n",
       "    <tr>\n",
       "      <th>0</th>\n",
       "      <td>urgent</td>\n",
       "      <td>ya</td>\n",
       "      <td>ya</td>\n",
       "      <td>kumpul2</td>\n",
       "    </tr>\n",
       "    <tr>\n",
       "      <th>1</th>\n",
       "      <td>urgent</td>\n",
       "      <td>tidak</td>\n",
       "      <td>ya</td>\n",
       "      <td>belajar</td>\n",
       "    </tr>\n",
       "    <tr>\n",
       "      <th>2</th>\n",
       "      <td>dekat</td>\n",
       "      <td>ya</td>\n",
       "      <td>ya</td>\n",
       "      <td>kumpul2</td>\n",
       "    </tr>\n",
       "    <tr>\n",
       "      <th>3</th>\n",
       "      <td>tidak ada</td>\n",
       "      <td>ya</td>\n",
       "      <td>tidak</td>\n",
       "      <td>kumpul2</td>\n",
       "    </tr>\n",
       "    <tr>\n",
       "      <th>4</th>\n",
       "      <td>tidak ada</td>\n",
       "      <td>tidak</td>\n",
       "      <td>ya</td>\n",
       "      <td>jalan2</td>\n",
       "    </tr>\n",
       "    <tr>\n",
       "      <th>5</th>\n",
       "      <td>tidak ada</td>\n",
       "      <td>ya</td>\n",
       "      <td>tidak</td>\n",
       "      <td>kumpul2</td>\n",
       "    </tr>\n",
       "    <tr>\n",
       "      <th>6</th>\n",
       "      <td>dekat</td>\n",
       "      <td>tidak</td>\n",
       "      <td>tidak</td>\n",
       "      <td>belajar</td>\n",
       "    </tr>\n",
       "    <tr>\n",
       "      <th>7</th>\n",
       "      <td>dekat</td>\n",
       "      <td>tidak</td>\n",
       "      <td>ya</td>\n",
       "      <td>nonton</td>\n",
       "    </tr>\n",
       "    <tr>\n",
       "      <th>8</th>\n",
       "      <td>dekat</td>\n",
       "      <td>ya</td>\n",
       "      <td>ya</td>\n",
       "      <td>kumpul2</td>\n",
       "    </tr>\n",
       "    <tr>\n",
       "      <th>9</th>\n",
       "      <td>urgent</td>\n",
       "      <td>tidak</td>\n",
       "      <td>tidak</td>\n",
       "      <td>belajar</td>\n",
       "    </tr>\n",
       "  </tbody>\n",
       "</table>\n",
       "</div>"
      ],
      "text/plain": [
       "    deadline ada hangout  malas aktivitas\n",
       "0     urgent          ya     ya   kumpul2\n",
       "1     urgent       tidak     ya   belajar\n",
       "2      dekat          ya     ya   kumpul2\n",
       "3  tidak ada          ya  tidak   kumpul2\n",
       "4  tidak ada       tidak     ya    jalan2\n",
       "5  tidak ada          ya  tidak   kumpul2\n",
       "6      dekat       tidak  tidak   belajar\n",
       "7      dekat       tidak     ya    nonton\n",
       "8      dekat          ya     ya   kumpul2\n",
       "9     urgent       tidak  tidak   belajar"
      ]
     },
     "execution_count": 5,
     "metadata": {},
     "output_type": "execute_result"
    }
   ],
   "source": [
    "current_data"
   ]
  },
  {
   "cell_type": "markdown",
   "metadata": {},
   "source": [
    "#### Root = Ada Hangout"
   ]
  },
  {
   "cell_type": "markdown",
   "metadata": {},
   "source": [
    "### Iterasi 2"
   ]
  },
  {
   "cell_type": "markdown",
   "metadata": {},
   "source": [
    "#### ada hangout = ya"
   ]
  },
  {
   "cell_type": "code",
   "execution_count": 6,
   "metadata": {},
   "outputs": [
    {
     "name": "stdout",
     "output_type": "stream",
     "text": [
      "KOLOM: DEADLINE\n",
      "total entropy of current data = 0.0\n",
      "value entropy kolom for deadline : tidak ada : 0.4 = 0.0\n",
      "value entropy kolom for deadline : dekat : 0.4 = 0.0\n",
      "value entropy kolom for deadline : urgent : 0.2 = 0.0\n",
      "sum entropy kolom for deadline = 0.0\n",
      "gain deadline : 0.0\n",
      "KOLOM: MALAS\n",
      "total entropy of current data = 0.0\n",
      "value entropy kolom for malas : ya : 0.6 = 0.0\n",
      "value entropy kolom for malas : tidak : 0.4 = 0.0\n",
      "sum entropy kolom for malas = 0.0\n",
      "gain malas : 0.0\n",
      "GAINS\n",
      " deadline    0.0\n",
      "malas       0.0\n",
      "dtype: float64\n",
      "AKTIVITAS TERKAIT ['kumpul2']\n"
     ]
    }
   ],
   "source": [
    "current_data = get_node_data(data, 'ada hangout', 'ya')\n",
    "current_gains = []\n",
    "for kolom in get_current_columns(current_data):\n",
    "    gain_kolom = gain(current_data, kolom)\n",
    "    print(\"gain\", kolom, \":\", gain_kolom)\n",
    "    current_gains.append([kolom, gain_kolom])\n",
    "current_gains = pd.Series([x[1] for x in current_gains], index=[x[0] for x in current_gains])\n",
    "print('GAINS\\n', current_gains)\n",
    "print('AKTIVITAS TERKAIT', current_data['aktivitas'].value_counts().index.tolist())"
   ]
  },
  {
   "cell_type": "code",
   "execution_count": 7,
   "metadata": {},
   "outputs": [
    {
     "data": {
      "text/html": [
       "<div>\n",
       "<style scoped>\n",
       "    .dataframe tbody tr th:only-of-type {\n",
       "        vertical-align: middle;\n",
       "    }\n",
       "\n",
       "    .dataframe tbody tr th {\n",
       "        vertical-align: top;\n",
       "    }\n",
       "\n",
       "    .dataframe thead th {\n",
       "        text-align: right;\n",
       "    }\n",
       "</style>\n",
       "<table border=\"1\" class=\"dataframe\">\n",
       "  <thead>\n",
       "    <tr style=\"text-align: right;\">\n",
       "      <th></th>\n",
       "      <th>deadline</th>\n",
       "      <th>malas</th>\n",
       "      <th>aktivitas</th>\n",
       "    </tr>\n",
       "  </thead>\n",
       "  <tbody>\n",
       "    <tr>\n",
       "      <th>0</th>\n",
       "      <td>urgent</td>\n",
       "      <td>ya</td>\n",
       "      <td>kumpul2</td>\n",
       "    </tr>\n",
       "    <tr>\n",
       "      <th>2</th>\n",
       "      <td>dekat</td>\n",
       "      <td>ya</td>\n",
       "      <td>kumpul2</td>\n",
       "    </tr>\n",
       "    <tr>\n",
       "      <th>3</th>\n",
       "      <td>tidak ada</td>\n",
       "      <td>tidak</td>\n",
       "      <td>kumpul2</td>\n",
       "    </tr>\n",
       "    <tr>\n",
       "      <th>5</th>\n",
       "      <td>tidak ada</td>\n",
       "      <td>tidak</td>\n",
       "      <td>kumpul2</td>\n",
       "    </tr>\n",
       "    <tr>\n",
       "      <th>8</th>\n",
       "      <td>dekat</td>\n",
       "      <td>ya</td>\n",
       "      <td>kumpul2</td>\n",
       "    </tr>\n",
       "  </tbody>\n",
       "</table>\n",
       "</div>"
      ],
      "text/plain": [
       "    deadline  malas aktivitas\n",
       "0     urgent     ya   kumpul2\n",
       "2      dekat     ya   kumpul2\n",
       "3  tidak ada  tidak   kumpul2\n",
       "5  tidak ada  tidak   kumpul2\n",
       "8      dekat     ya   kumpul2"
      ]
     },
     "execution_count": 7,
     "metadata": {},
     "output_type": "execute_result"
    }
   ],
   "source": [
    "current_data"
   ]
  },
  {
   "cell_type": "markdown",
   "metadata": {},
   "source": [
    "#### ada hangout = tidak"
   ]
  },
  {
   "cell_type": "code",
   "execution_count": 8,
   "metadata": {},
   "outputs": [
    {
     "name": "stdout",
     "output_type": "stream",
     "text": [
      "KOLOM: DEADLINE\n",
      "total entropy of current data = 1.3709505944546687\n",
      "value entropy kolom for deadline : urgent : 0.4 = 0.0\n",
      "value entropy kolom for deadline : dekat : 0.4 = 1.0\n",
      "value entropy kolom for deadline : tidak ada : 0.2 = 0.0\n",
      "sum entropy kolom for deadline = -0.4\n",
      "gain deadline : 0.9709505944546687\n",
      "KOLOM: MALAS\n",
      "total entropy of current data = 1.3709505944546687\n",
      "value entropy kolom for malas : ya : 0.6 = 1.584962500721156\n",
      "value entropy kolom for malas : tidak : 0.4 = 0.0\n",
      "sum entropy kolom for malas = -0.9509775004326936\n",
      "gain malas : 0.41997309402197514\n",
      "GAINS\n",
      " deadline    0.970951\n",
      "malas       0.419973\n",
      "dtype: float64\n",
      "AKTIVITAS TERKAIT ['belajar', 'jalan2', 'nonton']\n"
     ]
    }
   ],
   "source": [
    "current_data = get_node_data(data, 'ada hangout', 'tidak')\n",
    "current_gains = []\n",
    "for kolom in get_current_columns(current_data):\n",
    "    gain_kolom = gain(current_data, kolom)\n",
    "    print(\"gain\", kolom, \":\", gain_kolom)\n",
    "    current_gains.append([kolom, gain_kolom])\n",
    "current_gains = pd.Series([x[1] for x in current_gains], index=[x[0] for x in current_gains])\n",
    "print('GAINS\\n', current_gains)\n",
    "print('AKTIVITAS TERKAIT', current_data['aktivitas'].value_counts().index.tolist())"
   ]
  },
  {
   "cell_type": "code",
   "execution_count": 9,
   "metadata": {},
   "outputs": [
    {
     "data": {
      "text/html": [
       "<div>\n",
       "<style scoped>\n",
       "    .dataframe tbody tr th:only-of-type {\n",
       "        vertical-align: middle;\n",
       "    }\n",
       "\n",
       "    .dataframe tbody tr th {\n",
       "        vertical-align: top;\n",
       "    }\n",
       "\n",
       "    .dataframe thead th {\n",
       "        text-align: right;\n",
       "    }\n",
       "</style>\n",
       "<table border=\"1\" class=\"dataframe\">\n",
       "  <thead>\n",
       "    <tr style=\"text-align: right;\">\n",
       "      <th></th>\n",
       "      <th>deadline</th>\n",
       "      <th>malas</th>\n",
       "      <th>aktivitas</th>\n",
       "    </tr>\n",
       "  </thead>\n",
       "  <tbody>\n",
       "    <tr>\n",
       "      <th>1</th>\n",
       "      <td>urgent</td>\n",
       "      <td>ya</td>\n",
       "      <td>belajar</td>\n",
       "    </tr>\n",
       "    <tr>\n",
       "      <th>4</th>\n",
       "      <td>tidak ada</td>\n",
       "      <td>ya</td>\n",
       "      <td>jalan2</td>\n",
       "    </tr>\n",
       "    <tr>\n",
       "      <th>6</th>\n",
       "      <td>dekat</td>\n",
       "      <td>tidak</td>\n",
       "      <td>belajar</td>\n",
       "    </tr>\n",
       "    <tr>\n",
       "      <th>7</th>\n",
       "      <td>dekat</td>\n",
       "      <td>ya</td>\n",
       "      <td>nonton</td>\n",
       "    </tr>\n",
       "    <tr>\n",
       "      <th>9</th>\n",
       "      <td>urgent</td>\n",
       "      <td>tidak</td>\n",
       "      <td>belajar</td>\n",
       "    </tr>\n",
       "  </tbody>\n",
       "</table>\n",
       "</div>"
      ],
      "text/plain": [
       "    deadline  malas aktivitas\n",
       "1     urgent     ya   belajar\n",
       "4  tidak ada     ya    jalan2\n",
       "6      dekat  tidak   belajar\n",
       "7      dekat     ya    nonton\n",
       "9     urgent  tidak   belajar"
      ]
     },
     "execution_count": 9,
     "metadata": {},
     "output_type": "execute_result"
    }
   ],
   "source": [
    "current_data"
   ]
  },
  {
   "cell_type": "markdown",
   "metadata": {},
   "source": [
    "### Iterasi 3"
   ]
  },
  {
   "cell_type": "markdown",
   "metadata": {},
   "source": [
    "#### ada hangout = tidak ^ deadline = urgent"
   ]
  },
  {
   "cell_type": "code",
   "execution_count": 10,
   "metadata": {},
   "outputs": [
    {
     "name": "stdout",
     "output_type": "stream",
     "text": [
      "KOLOM: MALAS\n",
      "total entropy of current data = 0.0\n",
      "value entropy kolom for malas : tidak : 0.5 = 0.0\n",
      "value entropy kolom for malas : ya : 0.5 = 0.0\n",
      "sum entropy kolom for malas = 0.0\n",
      "gain malas : 0.0\n",
      "GAINS\n",
      " malas    0.0\n",
      "dtype: float64\n",
      "AKTIVITAS TERKAIT ['belajar']\n"
     ]
    }
   ],
   "source": [
    "current_data = get_node_data(get_node_data(data, 'ada hangout', 'tidak'), 'deadline', 'urgent')\n",
    "current_gains = []\n",
    "for kolom in get_current_columns(current_data):\n",
    "    gain_kolom = gain(current_data, kolom)\n",
    "    print(\"gain\", kolom, \":\", gain_kolom)\n",
    "    current_gains.append([kolom, gain_kolom])\n",
    "current_gains = pd.Series([x[1] for x in current_gains], index=[x[0] for x in current_gains])\n",
    "print('GAINS\\n', current_gains)\n",
    "print('AKTIVITAS TERKAIT', current_data['aktivitas'].value_counts().index.tolist())"
   ]
  },
  {
   "cell_type": "code",
   "execution_count": 11,
   "metadata": {},
   "outputs": [
    {
     "data": {
      "text/html": [
       "<div>\n",
       "<style scoped>\n",
       "    .dataframe tbody tr th:only-of-type {\n",
       "        vertical-align: middle;\n",
       "    }\n",
       "\n",
       "    .dataframe tbody tr th {\n",
       "        vertical-align: top;\n",
       "    }\n",
       "\n",
       "    .dataframe thead th {\n",
       "        text-align: right;\n",
       "    }\n",
       "</style>\n",
       "<table border=\"1\" class=\"dataframe\">\n",
       "  <thead>\n",
       "    <tr style=\"text-align: right;\">\n",
       "      <th></th>\n",
       "      <th>malas</th>\n",
       "      <th>aktivitas</th>\n",
       "    </tr>\n",
       "  </thead>\n",
       "  <tbody>\n",
       "    <tr>\n",
       "      <th>1</th>\n",
       "      <td>ya</td>\n",
       "      <td>belajar</td>\n",
       "    </tr>\n",
       "    <tr>\n",
       "      <th>9</th>\n",
       "      <td>tidak</td>\n",
       "      <td>belajar</td>\n",
       "    </tr>\n",
       "  </tbody>\n",
       "</table>\n",
       "</div>"
      ],
      "text/plain": [
       "   malas aktivitas\n",
       "1     ya   belajar\n",
       "9  tidak   belajar"
      ]
     },
     "execution_count": 11,
     "metadata": {},
     "output_type": "execute_result"
    }
   ],
   "source": [
    "current_data"
   ]
  },
  {
   "cell_type": "markdown",
   "metadata": {},
   "source": [
    "#### ada hangout = tidak ^ deadline = dekat"
   ]
  },
  {
   "cell_type": "code",
   "execution_count": 12,
   "metadata": {},
   "outputs": [
    {
     "name": "stdout",
     "output_type": "stream",
     "text": [
      "KOLOM: MALAS\n",
      "total entropy of current data = 1.0\n",
      "value entropy kolom for malas : tidak : 0.5 = 0.0\n",
      "value entropy kolom for malas : ya : 0.5 = 0.0\n",
      "sum entropy kolom for malas = 0.0\n",
      "gain malas : 1.0\n",
      "GAINS\n",
      " malas    1.0\n",
      "dtype: float64\n",
      "AKTIVITAS TERKAIT ['belajar', 'nonton']\n"
     ]
    }
   ],
   "source": [
    "current_data = get_node_data(get_node_data(data, 'ada hangout', 'tidak'), 'deadline', 'dekat')\n",
    "current_gains = []\n",
    "for kolom in get_current_columns(current_data):\n",
    "    gain_kolom = gain(current_data, kolom)\n",
    "    print(\"gain\", kolom, \":\", gain_kolom)\n",
    "    current_gains.append([kolom, gain_kolom])\n",
    "current_gains = pd.Series([x[1] for x in current_gains], index=[x[0] for x in current_gains])\n",
    "print('GAINS\\n', current_gains)\n",
    "print('AKTIVITAS TERKAIT', current_data['aktivitas'].value_counts().index.tolist())"
   ]
  },
  {
   "cell_type": "code",
   "execution_count": 13,
   "metadata": {},
   "outputs": [
    {
     "data": {
      "text/html": [
       "<div>\n",
       "<style scoped>\n",
       "    .dataframe tbody tr th:only-of-type {\n",
       "        vertical-align: middle;\n",
       "    }\n",
       "\n",
       "    .dataframe tbody tr th {\n",
       "        vertical-align: top;\n",
       "    }\n",
       "\n",
       "    .dataframe thead th {\n",
       "        text-align: right;\n",
       "    }\n",
       "</style>\n",
       "<table border=\"1\" class=\"dataframe\">\n",
       "  <thead>\n",
       "    <tr style=\"text-align: right;\">\n",
       "      <th></th>\n",
       "      <th>malas</th>\n",
       "      <th>aktivitas</th>\n",
       "    </tr>\n",
       "  </thead>\n",
       "  <tbody>\n",
       "    <tr>\n",
       "      <th>6</th>\n",
       "      <td>tidak</td>\n",
       "      <td>belajar</td>\n",
       "    </tr>\n",
       "    <tr>\n",
       "      <th>7</th>\n",
       "      <td>ya</td>\n",
       "      <td>nonton</td>\n",
       "    </tr>\n",
       "  </tbody>\n",
       "</table>\n",
       "</div>"
      ],
      "text/plain": [
       "   malas aktivitas\n",
       "6  tidak   belajar\n",
       "7     ya    nonton"
      ]
     },
     "execution_count": 13,
     "metadata": {},
     "output_type": "execute_result"
    }
   ],
   "source": [
    "current_data"
   ]
  },
  {
   "cell_type": "markdown",
   "metadata": {},
   "source": [
    "#### ada hangout = tidak ^ deadline = tidak ada"
   ]
  },
  {
   "cell_type": "code",
   "execution_count": 14,
   "metadata": {},
   "outputs": [
    {
     "name": "stdout",
     "output_type": "stream",
     "text": [
      "KOLOM: MALAS\n",
      "total entropy of current data = 0.0\n",
      "value entropy kolom for malas : ya : 1.0 = 0.0\n",
      "sum entropy kolom for malas = 0.0\n",
      "gain malas : 0.0\n",
      "GAINS\n",
      " malas    0.0\n",
      "dtype: float64\n",
      "AKTIVITAS TERKAIT ['jalan2']\n"
     ]
    }
   ],
   "source": [
    "current_data = get_node_data(get_node_data(data, 'ada hangout', 'tidak'), 'deadline', 'tidak ada')\n",
    "current_gains = []\n",
    "for kolom in get_current_columns(current_data):\n",
    "    gain_kolom = gain(current_data, kolom)\n",
    "    print(\"gain\", kolom, \":\", gain_kolom)\n",
    "    current_gains.append([kolom, gain_kolom])\n",
    "current_gains = pd.Series([x[1] for x in current_gains], index=[x[0] for x in current_gains])\n",
    "print('GAINS\\n', current_gains)\n",
    "print('AKTIVITAS TERKAIT', current_data['aktivitas'].value_counts().index.tolist())"
   ]
  },
  {
   "cell_type": "code",
   "execution_count": 15,
   "metadata": {},
   "outputs": [
    {
     "data": {
      "text/html": [
       "<div>\n",
       "<style scoped>\n",
       "    .dataframe tbody tr th:only-of-type {\n",
       "        vertical-align: middle;\n",
       "    }\n",
       "\n",
       "    .dataframe tbody tr th {\n",
       "        vertical-align: top;\n",
       "    }\n",
       "\n",
       "    .dataframe thead th {\n",
       "        text-align: right;\n",
       "    }\n",
       "</style>\n",
       "<table border=\"1\" class=\"dataframe\">\n",
       "  <thead>\n",
       "    <tr style=\"text-align: right;\">\n",
       "      <th></th>\n",
       "      <th>malas</th>\n",
       "      <th>aktivitas</th>\n",
       "    </tr>\n",
       "  </thead>\n",
       "  <tbody>\n",
       "    <tr>\n",
       "      <th>4</th>\n",
       "      <td>ya</td>\n",
       "      <td>jalan2</td>\n",
       "    </tr>\n",
       "  </tbody>\n",
       "</table>\n",
       "</div>"
      ],
      "text/plain": [
       "  malas aktivitas\n",
       "4    ya    jalan2"
      ]
     },
     "execution_count": 15,
     "metadata": {},
     "output_type": "execute_result"
    }
   ],
   "source": [
    "current_data"
   ]
  },
  {
   "cell_type": "markdown",
   "metadata": {},
   "source": [
    "### Iterasi 4"
   ]
  },
  {
   "cell_type": "markdown",
   "metadata": {},
   "source": [
    "#### ada hangout = tidak ^ deadline = dekat ^ malas = tidak"
   ]
  },
  {
   "cell_type": "code",
   "execution_count": 16,
   "metadata": {},
   "outputs": [
    {
     "name": "stdout",
     "output_type": "stream",
     "text": [
      "GAINS\n",
      " Series([], dtype: float64)\n",
      "AKTIVITAS TERKAIT ['belajar']\n"
     ]
    }
   ],
   "source": [
    "current_data = get_node_data(get_node_data(get_node_data(data, 'ada hangout', 'tidak'), 'deadline', 'dekat'), 'malas', 'tidak')\n",
    "current_gains = []\n",
    "for kolom in get_current_columns(current_data):\n",
    "    gain_kolom = gain(current_data, kolom)\n",
    "    print(\"gain\", kolom, \":\", gain_kolom)\n",
    "    current_gains.append([kolom, gain_kolom])\n",
    "current_gains = pd.Series([x[1] for x in current_gains], index=[x[0] for x in current_gains])\n",
    "print('GAINS\\n', current_gains)\n",
    "print('AKTIVITAS TERKAIT', current_data['aktivitas'].value_counts().index.tolist())"
   ]
  },
  {
   "cell_type": "code",
   "execution_count": 17,
   "metadata": {},
   "outputs": [
    {
     "data": {
      "text/html": [
       "<div>\n",
       "<style scoped>\n",
       "    .dataframe tbody tr th:only-of-type {\n",
       "        vertical-align: middle;\n",
       "    }\n",
       "\n",
       "    .dataframe tbody tr th {\n",
       "        vertical-align: top;\n",
       "    }\n",
       "\n",
       "    .dataframe thead th {\n",
       "        text-align: right;\n",
       "    }\n",
       "</style>\n",
       "<table border=\"1\" class=\"dataframe\">\n",
       "  <thead>\n",
       "    <tr style=\"text-align: right;\">\n",
       "      <th></th>\n",
       "      <th>aktivitas</th>\n",
       "    </tr>\n",
       "  </thead>\n",
       "  <tbody>\n",
       "    <tr>\n",
       "      <th>6</th>\n",
       "      <td>belajar</td>\n",
       "    </tr>\n",
       "  </tbody>\n",
       "</table>\n",
       "</div>"
      ],
      "text/plain": [
       "  aktivitas\n",
       "6   belajar"
      ]
     },
     "execution_count": 17,
     "metadata": {},
     "output_type": "execute_result"
    }
   ],
   "source": [
    "current_data"
   ]
  },
  {
   "cell_type": "markdown",
   "metadata": {},
   "source": [
    "#### ada hangout = tidak ^ deadline = dekat ^ malas = ya"
   ]
  },
  {
   "cell_type": "code",
   "execution_count": 18,
   "metadata": {},
   "outputs": [
    {
     "name": "stdout",
     "output_type": "stream",
     "text": [
      "GAINS\n",
      " Series([], dtype: float64)\n",
      "AKTIVITAS TERKAIT ['nonton']\n"
     ]
    }
   ],
   "source": [
    "current_data = get_node_data(get_node_data(get_node_data(data, 'ada hangout', 'tidak'), 'deadline', 'dekat'), 'malas', 'ya')\n",
    "current_gains = []\n",
    "for kolom in get_current_columns(current_data):\n",
    "    gain_kolom = gain(current_data, kolom)\n",
    "    print(\"gain\", kolom, \":\", gain_kolom)\n",
    "    current_gains.append([kolom, gain_kolom])\n",
    "current_gains = pd.Series([x[1] for x in current_gains], index=[x[0] for x in current_gains])\n",
    "print('GAINS\\n', current_gains)\n",
    "print('AKTIVITAS TERKAIT', current_data['aktivitas'].value_counts().index.tolist())"
   ]
  },
  {
   "cell_type": "code",
   "execution_count": 19,
   "metadata": {},
   "outputs": [
    {
     "data": {
      "text/html": [
       "<div>\n",
       "<style scoped>\n",
       "    .dataframe tbody tr th:only-of-type {\n",
       "        vertical-align: middle;\n",
       "    }\n",
       "\n",
       "    .dataframe tbody tr th {\n",
       "        vertical-align: top;\n",
       "    }\n",
       "\n",
       "    .dataframe thead th {\n",
       "        text-align: right;\n",
       "    }\n",
       "</style>\n",
       "<table border=\"1\" class=\"dataframe\">\n",
       "  <thead>\n",
       "    <tr style=\"text-align: right;\">\n",
       "      <th></th>\n",
       "      <th>aktivitas</th>\n",
       "    </tr>\n",
       "  </thead>\n",
       "  <tbody>\n",
       "    <tr>\n",
       "      <th>7</th>\n",
       "      <td>nonton</td>\n",
       "    </tr>\n",
       "  </tbody>\n",
       "</table>\n",
       "</div>"
      ],
      "text/plain": [
       "  aktivitas\n",
       "7    nonton"
      ]
     },
     "execution_count": 19,
     "metadata": {},
     "output_type": "execute_result"
    }
   ],
   "source": [
    "current_data"
   ]
  },
  {
   "cell_type": "code",
   "execution_count": null,
   "metadata": {},
   "outputs": [],
   "source": []
  }
 ],
 "metadata": {
  "kernelspec": {
   "display_name": "Python 3",
   "language": "python",
   "name": "python3"
  },
  "language_info": {
   "codemirror_mode": {
    "name": "ipython",
    "version": 3
   },
   "file_extension": ".py",
   "mimetype": "text/x-python",
   "name": "python",
   "nbconvert_exporter": "python",
   "pygments_lexer": "ipython3",
   "version": "3.7.3"
  }
 },
 "nbformat": 4,
 "nbformat_minor": 2
}
