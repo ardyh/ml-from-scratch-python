{
 "cells": [
  {
   "cell_type": "markdown",
   "metadata": {
    "colab_type": "text",
    "id": "9aI5nqv02uhr"
   },
   "source": [
    "# Tugas Besar 2 - Agglomerative Clustering\n",
    "\n",
    "- Ardysatrio Fakhri Haroen, 13517062\n",
    "- Dandi Agus Maulana, \n",
    "- Ahmad Mutawalli,\n",
    "- Harry Rahmadi Munly, 13517033"
   ]
  },
  {
   "cell_type": "markdown",
   "metadata": {
    "colab_type": "text",
    "id": "ZgA398b62qVq"
   },
   "source": [
    "### Import Libraries"
   ]
  },
  {
   "cell_type": "code",
   "execution_count": 32,
   "metadata": {
    "colab": {},
    "colab_type": "code",
    "id": "FSRBTunc2Hpa"
   },
   "outputs": [],
   "source": [
    "from sklearn.datasets import load_iris\n",
    "import pandas as pd\n",
    "import numpy as np\n",
    "import math"
   ]
  },
  {
   "cell_type": "markdown",
   "metadata": {
    "colab_type": "text",
    "id": "av2A0HwI2hG0"
   },
   "source": [
    "### Load Data"
   ]
  },
  {
   "cell_type": "code",
   "execution_count": 33,
   "metadata": {
    "colab": {},
    "colab_type": "code",
    "id": "iNS5Tarm2cde"
   },
   "outputs": [],
   "source": [
    "iris_X, iris_y = load_iris(return_X_y=True)\n",
    "iris_data = pd.DataFrame(iris_X, columns=['sepal_length', 'sepal_width', 'petal_length', 'petal_width'])\n",
    "iris_data['label'] = pd.Series(iris_y)\n",
    "iris_data_target = iris_data['label'].values.tolist()"
   ]
  },
  {
   "cell_type": "markdown",
   "metadata": {
    "colab_type": "text",
    "id": "zrxAibHv3El6"
   },
   "source": [
    "### Wrapper Class for Algorithm"
   ]
  },
  {
   "cell_type": "code",
   "execution_count": 34,
   "metadata": {
    "colab": {},
    "colab_type": "code",
    "id": "4ncStWUbZ9XR"
   },
   "outputs": [],
   "source": [
    "class AgglomerativeClustering () :\n",
    "  # Wrapper class for Hierarchical Agglomerative Clustering\n",
    "  # Designed for python list \n",
    "\n",
    "  def __init__ (self):    \n",
    "\n",
    "    self.n_data = None\n",
    "    self.n_features = None\n",
    "    self.data = None\n",
    "    self.cluster_distances = None\n",
    "    self.cluster_list = None\n",
    "    self.merged_clusters = None\n",
    "    self.clusters_made = None\n",
    "\n",
    "  # returns euclidian distance between two instances in float\n",
    "  def calculate_distance_two_instance (self, instance1, instance2):\n",
    "\n",
    "    if (len(instance1) == len(instance2)):\n",
    "\n",
    "      sum_squares = 0 \n",
    "      for i in range(self.n_features):\n",
    "        sum_squares += ((instance1[i] - instance2[i]) ** 2)\n",
    "\n",
    "      return sum_squares ** 0.5\n",
    "\n",
    "    else:\n",
    "      print(\"Length of instances not equal\")\n",
    "\n",
    "  # given a list of data-point indexes, returns feature average of given data points\n",
    "  def calculate_feature_average (self, indexes):\n",
    "\n",
    "    feature_average = []\n",
    "\n",
    "    for feat_idx in range(self.n_features):\n",
    "      \n",
    "      feature_sum = 0\n",
    "      for data_idx in indexes:\n",
    "        feature_sum += self.data[data_idx][feat_idx]\n",
    "\n",
    "      feature_average.append( float(feature_sum) / float(len(indexes)))\n",
    "      \n",
    "    return feature_average\n",
    "\n",
    "  # calculate distance between all data points\n",
    "  def calculate_cluster_distances (self):\n",
    "\n",
    "    self.cluster_distances = [[0 for i in range(self.n_data)] for j in range(self.n_data)]\n",
    "\n",
    "    for i in range(self.n_data):\n",
    "\n",
    "      for j in range(i+1, self.n_data):\n",
    "\n",
    "        self.cluster_distances[i][j] = self.calculate_distance_two_instance(self.data[i], self.data[j])\n",
    "        self.cluster_distances[j][i] = self.cluster_distances[i][j]\n",
    "\n",
    "  # initialize cluster list values\n",
    "  def init_clusters (self):\n",
    "\n",
    "    self.cluster_list = [[i] for i in range(self.n_data)]\n",
    "  \n",
    "  # initalize attribute values\n",
    "  def init_attributes (self, data):\n",
    "\n",
    "    self.data = data\n",
    "    self.n_data = len(data)\n",
    "    self.n_features = len(data[0])\n",
    "    self.calculate_cluster_distances()\n",
    "    self.init_clusters()\n",
    "    self.merged_clusters = []\n",
    "    self.clusters_made = self.n_data\n",
    "\n",
    "  # find the closest clusters for subsequent merging\n",
    "  def find_closest_clusters (self):\n",
    "\n",
    "    min_i = -1\n",
    "    min_j = -1\n",
    "    min_dist = -1\n",
    "    # iterate every cluster\n",
    "    for i in range(len(self.cluster_distances)):\n",
    "      \n",
    "      # ignore merged clusters\n",
    "      if(i not in self.merged_clusters):\n",
    "\n",
    "        # iterate every other cluster subsequent to i\n",
    "        for j in range(i+1, len(self.cluster_distances)):\n",
    "\n",
    "          # ignore merged clusters\n",
    "          if (j not in self.merged_clusters):\n",
    "\n",
    "            # if dist < current minimum or min_dist == min_dist initial value\n",
    "            if ((self.cluster_distances[i][j] < min_dist) or (min_dist == -1)):\n",
    "\n",
    "              min_dist = self.cluster_distances[i][j]\n",
    "              min_i, min_j = i, j\n",
    "\n",
    "    return min_dist, min_i, min_j\n",
    "\n",
    "  # calculate cluster distance with single link\n",
    "  def calculate_distance_single_link (self, merged_i, merged_j):\n",
    "\n",
    "    # update distance from merged_i to every cluster\n",
    "    for i in range(len(self.cluster_distances)):\n",
    "\n",
    "      # if i haven't been merged\n",
    "      if ((i not in self.merged_clusters) and (i != merged_i)):\n",
    "        \n",
    "        min_dist = -1\n",
    "        # search for minimum distance between merged_i and i\n",
    "        for p1 in self.cluster_list[merged_i]:\n",
    "\n",
    "          for p2 in self.cluster_list[i]:\n",
    "\n",
    "            if ((min_dist == -1) or (self.cluster_distances[p1][p2] < min_dist)): \n",
    "              min_dist = self.cluster_distances[p1][p2]\n",
    "\n",
    "        self.cluster_distances[merged_i][i] = min_dist\n",
    "        self.cluster_distances[i][merged_i] = min_dist\n",
    "\n",
    "  # calculate cluster distance with single link\n",
    "  def calculate_distance_complete_link (self, merged_i, merged_j):\n",
    "\n",
    "    # update distance from merged_i to every cluster\n",
    "    for i in range(len(self.cluster_distances)):\n",
    "\n",
    "      # if i haven't been merged\n",
    "      if ((i not in self.merged_clusters) and (i != merged_i)):\n",
    "        \n",
    "        max_dist = -1\n",
    "        # search for minimum distance between merged_i and i\n",
    "        for p1 in self.cluster_list[merged_i]:\n",
    "\n",
    "          for p2 in self.cluster_list[i]:\n",
    "\n",
    "            if (self.cluster_distances[p1][p2] > max_dist): \n",
    "              max_dist = self.cluster_distances[p1][p2]\n",
    "\n",
    "        self.cluster_distances[merged_i][i] = max_dist\n",
    "        self.cluster_distances[i][merged_i] = max_dist\n",
    "\n",
    "  # calculate cluster distance with single link\n",
    "  def calculate_distance_average_link (self, merged_i, merged_j):\n",
    "\n",
    "    # update distance from merged_i to every cluster\n",
    "    for i in range(len(self.cluster_distances)):\n",
    "\n",
    "      # if i haven't been merged\n",
    "      if ((i not in self.merged_clusters) and (i != merged_i)):\n",
    "        \n",
    "        sum_dist = 0\n",
    "        # search for minimum distance between merged_i and i\n",
    "        for p1 in self.cluster_list[merged_i]:\n",
    "\n",
    "          for p2 in self.cluster_list[i]:\n",
    "\n",
    "            sum_dist += self.cluster_distances[p1][p2]\n",
    "\n",
    "        n_points_c1 = len(self.cluster_list[merged_i])\n",
    "        n_points_c2 = len(self.cluster_list[i]) \n",
    "        avg_dist = float(sum_dist) / float(n_points_c1 + n_points_c2)\n",
    "        \n",
    "        self.cluster_distances[merged_i][i] = avg_dist\n",
    "        self.cluster_distances[i][merged_i] = avg_dist\n",
    "\n",
    "  # calculate cluster distance with single link\n",
    "  def calculate_distance_average_group_link (self, merged_i, merged_j):\n",
    "\n",
    "    # update distance from merged_i to every cluster\n",
    "    for i in range(len(self.cluster_distances)):\n",
    "\n",
    "      # if i haven't been merged\n",
    "      if ((i not in self.merged_clusters) and (i != merged_i)):\n",
    "        \n",
    "        avg_clust_points1 = self.calculate_feature_average(self.cluster_list[merged_i])\n",
    "        avg_clust_points2 = self.calculate_feature_average(self.cluster_list[i])\n",
    "\n",
    "        avg_group_dist = self.calculate_distance_two_instance(avg_clust_points1, avg_clust_points2) \n",
    "\n",
    "        self.cluster_distances[merged_i][i] = avg_group_dist\n",
    "        self.cluster_distances[i][merged_i] = avg_group_dist\n",
    "\n",
    "\n",
    "  # merge two clusters\n",
    "  def merge_clusters(self, merged_i, merged_j, linkage):\n",
    "\n",
    "    # append j into i's cluster\n",
    "    self.cluster_list[merged_i] += self.cluster_list[merged_j]\n",
    "    # note j into merged_clusters to be ignored next iteration\n",
    "    self.merged_clusters.append(merged_j)\n",
    "\n",
    "    #update distance between clusters\n",
    "    if (linkage == 'single'):\n",
    "      self.calculate_distance_single_link(merged_i, merged_j)\n",
    "    \n",
    "    elif (linkage == 'complete'):\n",
    "      self.calculate_distance_complete_link(merged_i, merged_j)\n",
    "    \n",
    "    elif (linkage == 'average'):\n",
    "      self.calculate_distance_average_link(merged_i, merged_j)\n",
    "    \n",
    "    elif (linkage == 'average-group'):\n",
    "      self.calculate_distance_average_group_link(merged_i, merged_j)\n",
    "\n",
    "    else:\n",
    "      \n",
    "      print('linkage parameter not found')\n",
    "      return None\n",
    "\n",
    "    self.clusters_made -= 1\n",
    "\n",
    "  # fit algorithm with data\n",
    "  def fit (self, data, num_clusters, linkage):\n",
    "    \n",
    "    if (len(data) == 0):\n",
    "      print(\"No data found\")\n",
    "      return None\n",
    "\n",
    "    # initialize variable values\n",
    "    self.init_attributes(data)\n",
    "\n",
    "    while (self.clusters_made > num_clusters):\n",
    "\n",
    "      # find closest clusters to be merged\n",
    "      merged_distance, merged_i, merged_j = self.find_closest_clusters()\n",
    "\n",
    "      # merge merged_j-th cluster into merged_i-th cluster \n",
    "      self.merge_clusters(merged_i, merged_j, linkage)\n",
    "\n",
    "    clusters = [(idx_c, c) for (idx_c, c) in enumerate(self.cluster_list) if idx_c not in self.merged_clusters]\n",
    "    return clusters"
   ]
  },
  {
   "cell_type": "code",
   "execution_count": 35,
   "metadata": {
    "colab": {},
    "colab_type": "code",
    "id": "mi-kfPF3yftg"
   },
   "outputs": [],
   "source": [
    "def print_results (linkage_params, cluster_results, agg_type):\n",
    "  # Print results\n",
    "  for (idx_param, param) in enumerate(linkage_params):\n",
    "    print(param)\n",
    "    if (agg_type == 'my'): \n",
    "      for e in cluster_results[idx_param]: \n",
    "        print(e[0], len(e[1]))\n",
    "\n",
    "    elif (agg_type == 'sklearn'): \n",
    "      print(cluster_results[idx_param])\n",
    "    \n",
    "    print()"
   ]
  },
  {
   "cell_type": "code",
   "execution_count": 36,
   "metadata": {
    "colab": {
     "base_uri": "https://localhost:8080/",
     "height": 357
    },
    "colab_type": "code",
    "id": "irXHxPIpxYvY",
    "outputId": "05428e94-f03d-4b71-e606-85c2ed176861"
   },
   "outputs": [
    {
     "name": "stdout",
     "output_type": "stream",
     "text": [
      "single\n",
      "0 50\n",
      "50 98\n",
      "117 2\n",
      "\n",
      "complete\n",
      "0 50\n",
      "50 72\n",
      "53 28\n",
      "\n",
      "average\n",
      "0 50\n",
      "50 64\n",
      "100 36\n",
      "\n",
      "average-group\n",
      "0 50\n",
      "50 64\n",
      "100 36\n",
      "\n"
     ]
    }
   ],
   "source": [
    "# Test Fit\n",
    "\n",
    "agg = AgglomerativeClustering()\n",
    "\n",
    "linkage_params = ['single', 'complete', 'average', 'average-group']\n",
    "cluster_results = []\n",
    "\n",
    "for param in linkage_params:\n",
    "  cluster_results.append(agg.fit(iris_X, 3, param))\n",
    "\n",
    "print_results (linkage_params, cluster_results, 'my')\n",
    "my_cluster_results = cluster_results\n",
    "# print_results (linkage_params, cluster_results, 'sklearn')"
   ]
  },
  {
   "cell_type": "code",
   "execution_count": 37,
   "metadata": {
    "colab": {
     "base_uri": "https://localhost:8080/",
     "height": 374
    },
    "colab_type": "code",
    "id": "KWB9vnKN9tIE",
    "outputId": "12862e21-9c53-48a0-ef56-6f8727b4a7d1"
   },
   "outputs": [
    {
     "name": "stdout",
     "output_type": "stream",
     "text": [
      "single\n",
      "[1 1 1 1 1 1 1 1 1 1 1 1 1 1 1 1 1 1 1 1 1 1 1 1 1 1 1 1 1 1 1 1 1 1 1 1 1\n",
      " 1 1 1 1 1 1 1 1 1 1 1 1 1 0 0 0 0 0 0 0 0 0 0 0 0 0 0 0 0 0 0 0 0 0 0 0 0\n",
      " 0 0 0 0 0 0 0 0 0 0 0 0 0 0 0 0 0 0 0 0 0 0 0 0 0 0 0 0 0 0 0 0 0 0 0 0 0\n",
      " 0 0 0 0 0 0 2 0 0 0 0 0 0 0 0 0 0 0 0 0 2 0 0 0 0 0 0 0 0 0 0 0 0 0 0 0 0\n",
      " 0 0]\n",
      "\n",
      "complete\n",
      "[1 1 1 1 1 1 1 1 1 1 1 1 1 1 1 1 1 1 1 1 1 1 1 1 1 1 1 1 1 1 1 1 1 1 1 1 1\n",
      " 1 1 1 1 1 1 1 1 1 1 1 1 1 0 0 0 2 0 2 0 2 0 2 2 2 2 0 2 0 2 2 0 2 0 2 0 0\n",
      " 0 0 0 0 0 2 2 2 2 0 2 0 0 0 2 2 2 0 2 2 2 2 2 0 2 2 0 0 0 0 0 0 2 0 0 0 0\n",
      " 0 0 0 0 0 0 0 0 0 0 0 0 0 0 0 0 0 0 0 0 0 0 0 0 0 0 0 0 0 0 0 0 0 0 0 0 0\n",
      " 0 0]\n",
      "\n",
      "average\n",
      "[1 1 1 1 1 1 1 1 1 1 1 1 1 1 1 1 1 1 1 1 1 1 1 1 1 1 1 1 1 1 1 1 1 1 1 1 1\n",
      " 1 1 1 1 1 1 1 1 1 1 1 1 1 0 0 0 0 0 0 0 0 0 0 0 0 0 0 0 0 0 0 0 0 0 0 0 0\n",
      " 0 0 0 0 0 0 0 0 0 0 0 0 0 0 0 0 0 0 0 0 0 0 0 0 0 0 2 0 2 2 2 2 0 2 2 2 2\n",
      " 2 2 0 0 2 2 2 2 0 2 0 2 0 2 2 0 0 2 2 2 2 2 0 2 2 2 2 0 2 2 2 0 2 2 2 0 2\n",
      " 2 0]\n",
      "\n"
     ]
    }
   ],
   "source": [
    "# Compare with SKlearn's Agglomerative\n",
    "\n",
    "from sklearn.cluster import AgglomerativeClustering \n",
    "\n",
    "linkage_params = ['single', 'complete', 'average']\n",
    "cluster_results = []\n",
    "\n",
    "for param in linkage_params:\n",
    "  ac = AgglomerativeClustering(n_clusters = 3, linkage=param) \n",
    "  cluster_results.append(ac.fit_predict(iris_X))  \n",
    "\n",
    "print_results (linkage_params, cluster_results, 'sklearn')\n",
    "sklearn_result = cluster_results"
   ]
  },
  {
   "cell_type": "code",
   "execution_count": 38,
   "metadata": {
    "colab": {},
    "colab_type": "code",
    "id": "cyZY9cHhORRl"
   },
   "outputs": [],
   "source": [
    "#hanya satu jenis linkage pada cluster_result\n",
    "def make_arr_for_eval(expected_label, cluster_result):\n",
    "  # initialize array result\n",
    "  result = []\n",
    "  for i in range(150):\n",
    "    result.append(-1)\n",
    "  # isi array hasil dengan el dengan isi tuple\n",
    "  for i in range(3):\n",
    "    for e in cluster_result[i][1]:\n",
    "      result[e] = expected_label[i]\n",
    "  return result    "
   ]
  },
  {
   "cell_type": "code",
   "execution_count": 39,
   "metadata": {},
   "outputs": [
    {
     "name": "stdout",
     "output_type": "stream",
     "text": [
      "single  : \n",
      " [0, 0, 0, 0, 0, 0, 0, 0, 0, 0, 0, 0, 0, 0, 0, 0, 0, 0, 0, 0, 0, 0, 0, 0, 0, 0, 0, 0, 0, 0, 0, 0, 0, 0, 0, 0, 0, 0, 0, 0, 0, 0, 0, 0, 0, 0, 0, 0, 0, 0, 1, 1, 1, 1, 1, 1, 1, 1, 1, 1, 1, 1, 1, 1, 1, 1, 1, 1, 1, 1, 1, 1, 1, 1, 1, 1, 1, 1, 1, 1, 1, 1, 1, 1, 1, 1, 1, 1, 1, 1, 1, 1, 1, 1, 1, 1, 1, 1, 1, 1, 1, 1, 1, 1, 1, 1, 1, 1, 1, 1, 1, 1, 1, 1, 1, 1, 1, 2, 1, 1, 1, 1, 1, 1, 1, 1, 1, 1, 1, 1, 1, 2, 1, 1, 1, 1, 1, 1, 1, 1, 1, 1, 1, 1, 1, 1, 1, 1, 1, 1]\n",
      "\n",
      "complete  : \n",
      " [0, 0, 0, 0, 0, 0, 0, 0, 0, 0, 0, 0, 0, 0, 0, 0, 0, 0, 0, 0, 0, 0, 0, 0, 0, 0, 0, 0, 0, 0, 0, 0, 0, 0, 0, 0, 0, 0, 0, 0, 0, 0, 0, 0, 0, 0, 0, 0, 0, 0, 1, 1, 1, 2, 1, 2, 1, 2, 1, 2, 2, 2, 2, 1, 2, 1, 2, 2, 1, 2, 1, 2, 1, 1, 1, 1, 1, 1, 1, 2, 2, 2, 2, 1, 2, 1, 1, 1, 2, 2, 2, 1, 2, 2, 2, 2, 2, 1, 2, 2, 1, 1, 1, 1, 1, 1, 2, 1, 1, 1, 1, 1, 1, 1, 1, 1, 1, 1, 1, 1, 1, 1, 1, 1, 1, 1, 1, 1, 1, 1, 1, 1, 1, 1, 1, 1, 1, 1, 1, 1, 1, 1, 1, 1, 1, 1, 1, 1, 1, 1]\n",
      "\n",
      "average  : \n",
      " [0, 0, 0, 0, 0, 0, 0, 0, 0, 0, 0, 0, 0, 0, 0, 0, 0, 0, 0, 0, 0, 0, 0, 0, 0, 0, 0, 0, 0, 0, 0, 0, 0, 0, 0, 0, 0, 0, 0, 0, 0, 0, 0, 0, 0, 0, 0, 0, 0, 0, 1, 1, 1, 1, 1, 1, 1, 1, 1, 1, 1, 1, 1, 1, 1, 1, 1, 1, 1, 1, 1, 1, 1, 1, 1, 1, 1, 1, 1, 1, 1, 1, 1, 1, 1, 1, 1, 1, 1, 1, 1, 1, 1, 1, 1, 1, 1, 1, 1, 1, 2, 1, 2, 2, 2, 2, 1, 2, 2, 2, 2, 2, 2, 1, 1, 2, 2, 2, 2, 1, 2, 1, 2, 1, 2, 2, 1, 1, 2, 2, 2, 2, 2, 1, 2, 2, 2, 2, 1, 2, 2, 2, 1, 2, 2, 2, 1, 2, 2, 1]\n",
      "\n",
      "average-group  : \n",
      " [0, 0, 0, 0, 0, 0, 0, 0, 0, 0, 0, 0, 0, 0, 0, 0, 0, 0, 0, 0, 0, 0, 0, 0, 0, 0, 0, 0, 0, 0, 0, 0, 0, 0, 0, 0, 0, 0, 0, 0, 0, 0, 0, 0, 0, 0, 0, 0, 0, 0, 1, 1, 1, 1, 1, 1, 1, 1, 1, 1, 1, 1, 1, 1, 1, 1, 1, 1, 1, 1, 1, 1, 1, 1, 1, 1, 1, 1, 1, 1, 1, 1, 1, 1, 1, 1, 1, 1, 1, 1, 1, 1, 1, 1, 1, 1, 1, 1, 1, 1, 2, 1, 2, 2, 2, 2, 1, 2, 2, 2, 2, 2, 2, 1, 1, 2, 2, 2, 2, 1, 2, 1, 2, 1, 2, 2, 1, 1, 2, 2, 2, 2, 2, 1, 2, 2, 2, 2, 1, 2, 2, 2, 1, 2, 2, 2, 1, 2, 2, 1]\n",
      "\n"
     ]
    }
   ],
   "source": [
    "expected_label = [0,1,2]\n",
    "linkage_params = ['single', 'complete', 'average', 'average-group']\n",
    "for i in range(4):\n",
    "    arr = make_arr_for_eval(expected_label, my_cluster_results[i])\n",
    "    print(linkage_params[i],\" : \\n\", arr)\n",
    "    print()"
   ]
  },
  {
   "cell_type": "code",
   "execution_count": 40,
   "metadata": {
    "colab": {},
    "colab_type": "code",
    "id": "kDcM1y_UDd9q"
   },
   "outputs": [],
   "source": [
    "from sklearn.metrics import fowlkes_mallows_score\n",
    "\n",
    "def print_fowlkes_mallows_eval(expected_label, cluster_results, linkage, target):\n",
    "  print(\"fowlkes-mallows score\")\n",
    "  for i in range(4):\n",
    "    arr = make_arr_for_eval(expected_label, my_cluster_results[i])\n",
    "    score = fowlkes_mallows_score(target, arr)\n",
    "    print(linkage[i],\" : \", score)"
   ]
  },
  {
   "cell_type": "code",
   "execution_count": 41,
   "metadata": {
    "colab": {
     "base_uri": "https://localhost:8080/",
     "height": 102
    },
    "colab_type": "code",
    "id": "93ds4r8wHw_q",
    "outputId": "33bba884-6eb6-4c34-a99b-f48e1b6ab342"
   },
   "outputs": [
    {
     "name": "stdout",
     "output_type": "stream",
     "text": [
      "fowlkes-mallows score\n",
      "single  :  0.7635170681000877\n",
      "complete  :  0.7686371028513819\n",
      "average  :  0.8407289157574822\n",
      "average-group  :  0.8407289157574822\n"
     ]
    }
   ],
   "source": [
    "expected_label = [0,1,2]\n",
    "linkage_params = ['single', 'complete', 'average', 'average-group']\n",
    "print_fowlkes_mallows_eval(expected_label, my_cluster_results, linkage_params, iris_data_target)"
   ]
  },
  {
   "cell_type": "code",
   "execution_count": 42,
   "metadata": {
    "colab": {},
    "colab_type": "code",
    "id": "VOP39uRpKBR9"
   },
   "outputs": [],
   "source": [
    "from sklearn.metrics import silhouette_score\n",
    "\n",
    "def print_silhouette_eval(expected_label, cluster_results, linkage, X_label):\n",
    "  print(\"Silhouette Coefficient score\")\n",
    "  for i in range(4):\n",
    "    arr = make_arr_for_eval(expected_label, my_cluster_results[i])\n",
    "    score = silhouette_score(X_label, arr, metric='euclidean')\n",
    "    print(linkage[i],\" : \", score)\n"
   ]
  },
  {
   "cell_type": "code",
   "execution_count": 43,
   "metadata": {
    "colab": {
     "base_uri": "https://localhost:8080/",
     "height": 102
    },
    "colab_type": "code",
    "id": "yqDHm-u3RLEq",
    "outputId": "fb0ff788-3f6c-4241-d973-3227e5d8d7cc"
   },
   "outputs": [
    {
     "name": "stdout",
     "output_type": "stream",
     "text": [
      "Silhouette Coefficient score\n",
      "single  :  0.5121107753649304\n",
      "complete  :  0.5135953221192208\n",
      "average  :  0.5541608580282847\n",
      "average-group  :  0.5541608580282847\n"
     ]
    }
   ],
   "source": [
    "print_silhouette_eval(expected_label,  my_cluster_results, linkage_params, iris_X)"
   ]
  },
  {
   "cell_type": "code",
   "execution_count": 44,
   "metadata": {
    "colab": {
     "base_uri": "https://localhost:8080/",
     "height": 85
    },
    "colab_type": "code",
    "id": "X2gYVot1gdWt",
    "outputId": "81906c48-7b27-4f2a-9a15-2125a7960e4a"
   },
   "outputs": [
    {
     "data": {
      "image/png": "[encoded data removed]",
      "text/plain": [
       "<Figure size 216x72 with 1 Axes>"
      ]
     },
     "metadata": {},
     "output_type": "display_data"
    }
   ],
   "source": [
    "import seaborn as sns\n",
    "import matplotlib.pyplot as plt\n",
    "%matplotlib inline\n",
    "\n",
    "#set font size of labels on matplotlib plots\n",
    "plt.rc('font', size=16)\n",
    "\n",
    "#set style of plots\n",
    "sns.set_style('white')\n",
    "\n",
    "#define a custom palette\n",
    "customPalette = ['#630C3A', '#39C8C6', '#D3500C']\n",
    "sns.set_palette(customPalette)\n",
    "sns.palplot(customPalette)"
   ]
  },
  {
   "cell_type": "code",
   "execution_count": 45,
   "metadata": {
    "colab": {
     "base_uri": "https://localhost:8080/",
     "height": 383
    },
    "colab_type": "code",
    "id": "VqToEzmzg2ed",
    "outputId": "6950531b-5c0b-4969-9e8d-a67d66b07620"
   },
   "outputs": [
    {
     "ename": "NameError",
     "evalue": "name 'data' is not defined",
     "output_type": "error",
     "traceback": [
      "\u001b[1;31m---------------------------------------------------------------------------\u001b[0m",
      "\u001b[1;31mNameError\u001b[0m                                 Traceback (most recent call last)",
      "\u001b[1;32m<ipython-input-45-37aa33ffb395>\u001b[0m in \u001b[0;36m<module>\u001b[1;34m\u001b[0m\n\u001b[0;32m      2\u001b[0m \u001b[0mplt\u001b[0m\u001b[1;33m.\u001b[0m\u001b[0mfigure\u001b[0m\u001b[1;33m(\u001b[0m\u001b[0mfigsize\u001b[0m \u001b[1;33m=\u001b[0m\u001b[1;33m(\u001b[0m\u001b[1;36m6\u001b[0m\u001b[1;33m,\u001b[0m \u001b[1;36m6\u001b[0m\u001b[1;33m)\u001b[0m\u001b[1;33m)\u001b[0m\u001b[1;33m\u001b[0m\u001b[1;33m\u001b[0m\u001b[0m\n\u001b[0;32m      3\u001b[0m \u001b[0mplt\u001b[0m\u001b[1;33m.\u001b[0m\u001b[0mscatter\u001b[0m\u001b[1;33m(\u001b[0m\u001b[0miris_data\u001b[0m\u001b[1;33m[\u001b[0m\u001b[1;34m'sepal_length'\u001b[0m\u001b[1;33m]\u001b[0m\u001b[1;33m,\u001b[0m\u001b[0miris_data\u001b[0m\u001b[1;33m[\u001b[0m\u001b[1;34m'sepal_width'\u001b[0m\u001b[1;33m]\u001b[0m\u001b[1;33m,\u001b[0m\u001b[0msingle_arr\u001b[0m\u001b[1;33m,\u001b[0m \u001b[0mcmap\u001b[0m \u001b[1;33m=\u001b[0m\u001b[1;34m'rainbow'\u001b[0m\u001b[1;33m)\u001b[0m\u001b[1;33m\u001b[0m\u001b[1;33m\u001b[0m\u001b[0m\n\u001b[1;32m----> 4\u001b[1;33m facet = sns.lmplot(data=data, x='x', y='y', hue='label', \n\u001b[0m\u001b[0;32m      5\u001b[0m                    fit_reg=False, legend=True, legend_out=True)\n",
      "\u001b[1;31mNameError\u001b[0m: name 'data' is not defined"
     ]
    },
    {
     "data": {
      "image/png": "[encoded data removed]",
      "text/plain": [
       "<Figure size 432x432 with 1 Axes>"
      ]
     },
     "metadata": {},
     "output_type": "display_data"
    }
   ],
   "source": [
    "single_arr = make_arr_for_eval(expected_label, my_cluster_results[0])\n",
    "plt.figure(figsize =(6, 6)) \n",
    "plt.scatter(iris_data['sepal_length'],iris_data['sepal_width'],single_arr, cmap ='rainbow')\n",
    "facet = sns.lmplot(data=data, x='x', y='y', hue='label', \n",
    "                   fit_reg=False, legend=True, legend_out=True)"
   ]
  }
 ],
 "metadata": {
  "colab": {
   "collapsed_sections": [],
   "name": "Agglomerative.ipynb",
   "provenance": []
  },
  "kernelspec": {
   "display_name": "Python 3",
   "language": "python",
   "name": "python3"
  },
  "language_info": {
   "codemirror_mode": {
    "name": "ipython",
    "version": 3
   },
   "file_extension": ".py",
   "mimetype": "text/x-python",
   "name": "python",
   "nbconvert_exporter": "python",
   "pygments_lexer": "ipython3",
   "version": "3.7.3"
  }
 },
 "nbformat": 4,
 "nbformat_minor": 2
}
