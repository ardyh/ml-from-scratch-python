{
 "cells": [
  {
   "cell_type": "markdown",
   "metadata": {},
   "source": [
    "# Tugas Besar 2A - Pembelajaran Mesin\n",
    "\n",
    "\n",
    "#### Anggota Kelompok\n",
    "1. Ahmad Mutawalli - 13517026, K02\n",
    "2. Harry Rahmadi Munly - 13517033, K03\n",
    "3. Ardysatrio Fakhri Haroen - 13517062, K02\n",
    "4. Dandi Agus Maulana - 13517077, K02"
   ]
  },
  {
   "cell_type": "markdown",
   "metadata": {},
   "source": [
    "## Import Dependencies"
   ]
  },
  {
   "cell_type": "code",
   "execution_count": 85,
   "metadata": {},
   "outputs": [],
   "source": [
    "import sys\n",
    "import random\n",
    "import copy\n",
    "import time\n",
    "import math\n",
    "import pandas as pd\n",
    "import numpy as np\n",
    "import matplotlib.pyplot as plt\n",
    "\n",
    "from sklearn.datasets import load_iris\n",
    "from sklearn.metrics import fowlkes_mallows_score,silhouette_score \n",
    "from sklearn import decomposition"
   ]
  },
  {
   "cell_type": "markdown",
   "metadata": {},
   "source": [
    "## Implementasi modul K-means"
   ]
  },
  {
   "cell_type": "code",
   "execution_count": 112,
   "metadata": {},
   "outputs": [],
   "source": [
    "class Kmeans():\n",
    "    def __init__(self, cluster=4, max_iter=10):\n",
    "        self.cluster = cluster\n",
    "        self.max_iter = max_iter\n",
    "        self.stop_iter = 0\n",
    "        self.kmeans_centroids = []\n",
    "    \n",
    "    # Init centroids\n",
    "    def init_centroid(self, data):\n",
    "        num_data, num_feature = np.shape(data)\n",
    "        centroids = np.zeros((self.cluster, num_feature))\n",
    "        for i in range(self.cluster):\n",
    "            centroid = data[np.random.choice(range(num_data))]\n",
    "            centroids[i] = centroid\n",
    "        return centroids\n",
    "\n",
    "    #calculate euclidean distance\n",
    "    def euclidean_distance (self, p1, p2):\n",
    "        sum_square = 0\n",
    "        for i in range(0, len(p1)):\n",
    "            sum_square += math.pow(float(p1[i]) - float(p2[i]), 2)\n",
    "        return float(math.sqrt(sum_square))\n",
    "    \n",
    "\n",
    "    # get closer centroid from a point\n",
    "    def get_closest_centroid(self, point, centroids):\n",
    "        index = -1\n",
    "        min_dist = 999999.0\n",
    "        for i, centroid in enumerate(centroids):\n",
    "            distance = self.euclidean_distance(point, centroid)\n",
    "            if distance < min_dist:\n",
    "                index = i\n",
    "                min_dist = distance\n",
    "        return index\n",
    "\n",
    "    # get clustering\n",
    "    def assign_cluster(self, centroids, data):\n",
    "        num_data = np.shape(data)[0]\n",
    "        clusters = [[] for i in range(self.cluster)]\n",
    "        for idx, value in enumerate(data):\n",
    "            closest_centroid = self.get_closest_centroid(value, centroids)\n",
    "            clusters[closest_centroid].append(idx)\n",
    "        return clusters\n",
    "\n",
    "    # make new centroids from the means of data in each cluster\n",
    "    def make_new_centroids(self, clusters, data):\n",
    "        num_feature = np.shape(data)[1]\n",
    "        centroids = np.zeros((self.cluster, num_feature))\n",
    "        for i, cluster in enumerate(clusters):\n",
    "            centroid = np.mean(data[cluster], axis=0)\n",
    "            centroids[i] = centroid\n",
    "        return centroids\n",
    "\n",
    "    # get label of data\n",
    "    def get_cluster_labels(self, clusters, data):\n",
    "        # One prediction for each sample\n",
    "        label = np.zeros(np.shape(data)[0])\n",
    "        for idx, cluster in enumerate(clusters):\n",
    "            for sample_idx in cluster:\n",
    "                label[sample_idx] = idx\n",
    "        return label\n",
    "\n",
    "    def check_change(self, data1, data2):\n",
    "        change = False\n",
    "        for i in range (len(data1)):\n",
    "            if(not change):\n",
    "                for j in range(len(data1[i])):\n",
    "                    if (data1[i][j] != data2[i][j]):\n",
    "                        change = True\n",
    "                        break\n",
    "        return change\n",
    "    \n",
    "    # run k-means clustering and return the centroids of the clusters\n",
    "    def fit(self, data):\n",
    "        # Initialize centroids\n",
    "        centroids = self.init_centroid(data)\n",
    "\n",
    "        # Iterate until convergence or for max iterations\n",
    "        for i in range(self.max_iter):\n",
    "            # Assign samples to closest centroids (create clusters)\n",
    "            clusters = self.assign_cluster(centroids, data)\n",
    "\n",
    "            prev_centroids = centroids\n",
    "            # Calculate new centroids from the clusters\n",
    "            centroids = self.make_new_centroids(clusters, data)\n",
    "\n",
    "            # break if no change \n",
    "            if (not self.check_change(prev_centroids, centroids)):\n",
    "                self.stop_iter = i\n",
    "                break\n",
    "\n",
    "        self.kmeans_centroids = centroids\n",
    "        return centroids\n",
    "\n",
    "    # Predict the class of each sample\n",
    "    def predict(self, data):\n",
    "        \n",
    "        clusters = self.assign_cluster(self.kmeans_centroids, data)\n",
    "\n",
    "        predicted_labels = self.get_cluster_labels(clusters, data)\n",
    "\n",
    "        return predicted_labels\n"
   ]
  },
  {
   "cell_type": "markdown",
   "metadata": {},
   "source": [
    "## Clustering with K-means"
   ]
  },
  {
   "cell_type": "code",
   "execution_count": 113,
   "metadata": {},
   "outputs": [
    {
     "data": {
      "text/html": [
       "<div>\n",
       "<style scoped>\n",
       "    .dataframe tbody tr th:only-of-type {\n",
       "        vertical-align: middle;\n",
       "    }\n",
       "\n",
       "    .dataframe tbody tr th {\n",
       "        vertical-align: top;\n",
       "    }\n",
       "\n",
       "    .dataframe thead th {\n",
       "        text-align: right;\n",
       "    }\n",
       "</style>\n",
       "<table border=\"1\" class=\"dataframe\">\n",
       "  <thead>\n",
       "    <tr style=\"text-align: right;\">\n",
       "      <th></th>\n",
       "      <th>sepal_length</th>\n",
       "      <th>sepal_width</th>\n",
       "      <th>petal_length</th>\n",
       "      <th>petal_width</th>\n",
       "      <th>label</th>\n",
       "    </tr>\n",
       "  </thead>\n",
       "  <tbody>\n",
       "    <tr>\n",
       "      <th>0</th>\n",
       "      <td>5.1</td>\n",
       "      <td>3.5</td>\n",
       "      <td>1.4</td>\n",
       "      <td>0.2</td>\n",
       "      <td>0</td>\n",
       "    </tr>\n",
       "    <tr>\n",
       "      <th>1</th>\n",
       "      <td>4.9</td>\n",
       "      <td>3.0</td>\n",
       "      <td>1.4</td>\n",
       "      <td>0.2</td>\n",
       "      <td>0</td>\n",
       "    </tr>\n",
       "    <tr>\n",
       "      <th>2</th>\n",
       "      <td>4.7</td>\n",
       "      <td>3.2</td>\n",
       "      <td>1.3</td>\n",
       "      <td>0.2</td>\n",
       "      <td>0</td>\n",
       "    </tr>\n",
       "    <tr>\n",
       "      <th>3</th>\n",
       "      <td>4.6</td>\n",
       "      <td>3.1</td>\n",
       "      <td>1.5</td>\n",
       "      <td>0.2</td>\n",
       "      <td>0</td>\n",
       "    </tr>\n",
       "    <tr>\n",
       "      <th>4</th>\n",
       "      <td>5.0</td>\n",
       "      <td>3.6</td>\n",
       "      <td>1.4</td>\n",
       "      <td>0.2</td>\n",
       "      <td>0</td>\n",
       "    </tr>\n",
       "    <tr>\n",
       "      <th>...</th>\n",
       "      <td>...</td>\n",
       "      <td>...</td>\n",
       "      <td>...</td>\n",
       "      <td>...</td>\n",
       "      <td>...</td>\n",
       "    </tr>\n",
       "    <tr>\n",
       "      <th>145</th>\n",
       "      <td>6.7</td>\n",
       "      <td>3.0</td>\n",
       "      <td>5.2</td>\n",
       "      <td>2.3</td>\n",
       "      <td>2</td>\n",
       "    </tr>\n",
       "    <tr>\n",
       "      <th>146</th>\n",
       "      <td>6.3</td>\n",
       "      <td>2.5</td>\n",
       "      <td>5.0</td>\n",
       "      <td>1.9</td>\n",
       "      <td>2</td>\n",
       "    </tr>\n",
       "    <tr>\n",
       "      <th>147</th>\n",
       "      <td>6.5</td>\n",
       "      <td>3.0</td>\n",
       "      <td>5.2</td>\n",
       "      <td>2.0</td>\n",
       "      <td>2</td>\n",
       "    </tr>\n",
       "    <tr>\n",
       "      <th>148</th>\n",
       "      <td>6.2</td>\n",
       "      <td>3.4</td>\n",
       "      <td>5.4</td>\n",
       "      <td>2.3</td>\n",
       "      <td>2</td>\n",
       "    </tr>\n",
       "    <tr>\n",
       "      <th>149</th>\n",
       "      <td>5.9</td>\n",
       "      <td>3.0</td>\n",
       "      <td>5.1</td>\n",
       "      <td>1.8</td>\n",
       "      <td>2</td>\n",
       "    </tr>\n",
       "  </tbody>\n",
       "</table>\n",
       "<p>150 rows × 5 columns</p>\n",
       "</div>"
      ],
      "text/plain": [
       "     sepal_length  sepal_width  petal_length  petal_width  label\n",
       "0             5.1          3.5           1.4          0.2      0\n",
       "1             4.9          3.0           1.4          0.2      0\n",
       "2             4.7          3.2           1.3          0.2      0\n",
       "3             4.6          3.1           1.5          0.2      0\n",
       "4             5.0          3.6           1.4          0.2      0\n",
       "..            ...          ...           ...          ...    ...\n",
       "145           6.7          3.0           5.2          2.3      2\n",
       "146           6.3          2.5           5.0          1.9      2\n",
       "147           6.5          3.0           5.2          2.0      2\n",
       "148           6.2          3.4           5.4          2.3      2\n",
       "149           5.9          3.0           5.1          1.8      2\n",
       "\n",
       "[150 rows x 5 columns]"
      ]
     },
     "execution_count": 113,
     "metadata": {},
     "output_type": "execute_result"
    }
   ],
   "source": [
    "#Load dataset iris\n",
    "X_iris, y_iris = load_iris(return_X_y=True)\n",
    "iris_data = pd.DataFrame(X_iris, columns=['sepal_length', 'sepal_width', 'petal_length', 'petal_width']); iris_data['label'] = y_iris\n",
    "iris_data"
   ]
  },
  {
   "cell_type": "code",
   "execution_count": 114,
   "metadata": {},
   "outputs": [
    {
     "name": "stdout",
     "output_type": "stream",
     "text": [
      "3\n"
     ]
    }
   ],
   "source": [
    "iris = load_iris()\n",
    "train_data = np.array(iris.data)\n",
    "train_labels = np.array(iris.target)\n",
    "num_features = train_data.data.shape[1]\n",
    "unique_labels = np.unique(train_labels)\n",
    "num_classes = len(unique_labels)\n",
    "print(num_classes)"
   ]
  },
  {
   "cell_type": "code",
   "execution_count": 118,
   "metadata": {},
   "outputs": [
    {
     "name": "stdout",
     "output_type": "stream",
     "text": [
      "Centroid :\n",
      "[[5.9016129  2.7483871  4.39354839 1.43387097]\n",
      " [5.006      3.428      1.462      0.246     ]\n",
      " [6.85       3.07368421 5.74210526 2.07105263]]\n",
      "stop at iter :7\n",
      "\n",
      "\n",
      "Predicted label :\n",
      "[1. 1. 1. 1. 1. 1. 1. 1. 1. 1. 1. 1. 1. 1. 1. 1. 1. 1. 1. 1. 1. 1. 1. 1.\n",
      " 1. 1. 1. 1. 1. 1. 1. 1. 1. 1. 1. 1. 1. 1. 1. 1. 1. 1. 1. 1. 1. 1. 1. 1.\n",
      " 1. 1. 0. 0. 2. 0. 0. 0. 0. 0. 0. 0. 0. 0. 0. 0. 0. 0. 0. 0. 0. 0. 0. 0.\n",
      " 0. 0. 0. 0. 0. 2. 0. 0. 0. 0. 0. 0. 0. 0. 0. 0. 0. 0. 0. 0. 0. 0. 0. 0.\n",
      " 0. 0. 0. 0. 2. 0. 2. 2. 2. 2. 0. 2. 2. 2. 2. 2. 2. 0. 0. 2. 2. 2. 2. 0.\n",
      " 2. 0. 2. 0. 2. 2. 0. 0. 2. 2. 2. 2. 2. 0. 2. 2. 2. 2. 0. 2. 2. 2. 0. 2.\n",
      " 2. 2. 0. 2. 2. 0.]\n"
     ]
    }
   ],
   "source": [
    "kmean = Kmeans(cluster=num_classes, max_iter=1000)\n",
    "print(\"Centroid :\")\n",
    "centroids = kmean.fit(train_data)\n",
    "print(centroids)\n",
    "\n",
    "print(\"\\n\")\n",
    "print(\"stop at iter :\" + str(kmean.stop_iter))\n",
    "\n",
    "print(\"\\n\")\n",
    "print(\"Predicted label :\")\n",
    "predicted_labels = kmean.predict(train_data)\n",
    "print(predicted_labels)"
   ]
  },
  {
   "cell_type": "code",
   "execution_count": 111,
   "metadata": {},
   "outputs": [
    {
     "name": "stdout",
     "output_type": "stream",
     "text": [
      "K-Means Classification Accuracy =  0.8933333333333333\n"
     ]
    }
   ],
   "source": [
    "# Calculate accuracy\n",
    "Correct = 0\n",
    "for index in range(len(train_labels)):\n",
    "    current_label = train_labels[index]\n",
    "    predicted_label = predicted_labels[index]\n",
    "    if current_label == predicted_label:\n",
    "        Correct += 1\n",
    "\n",
    "Accuracy = Correct / len(train_labels)\n",
    "\n",
    "print(\"K-Means Classification Accuracy = \", Accuracy)"
   ]
  },
  {
   "cell_type": "markdown",
   "metadata": {},
   "source": [
    "## Evaluation"
   ]
  },
  {
   "cell_type": "code",
   "execution_count": 7,
   "metadata": {},
   "outputs": [
    {
     "name": "stdout",
     "output_type": "stream",
     "text": [
      "Fowlkes-Mallows Score :  0.8208080729114153\n"
     ]
    }
   ],
   "source": [
    "print(\"Fowlkes-Mallows Score : \",fowlkes_mallows_score(train_labels,predicted_labels))"
   ]
  },
  {
   "cell_type": "code",
   "execution_count": 8,
   "metadata": {},
   "outputs": [
    {
     "name": "stdout",
     "output_type": "stream",
     "text": [
      "Silhouette Score :  0.5528190123564091\n"
     ]
    }
   ],
   "source": [
    "print(\"Silhouette Score : \",silhouette_score(train_data,predicted_labels))"
   ]
  },
  {
   "cell_type": "markdown",
   "metadata": {},
   "source": [
    "## Visualization"
   ]
  },
  {
   "cell_type": "code",
   "execution_count": 9,
   "metadata": {},
   "outputs": [
    {
     "data": {
      "image/png": "[encoded data removed]",
      "text/plain": [
       "<Figure size 432x432 with 1 Axes>"
      ]
     },
     "metadata": {
      "needs_background": "light"
     },
     "output_type": "display_data"
    },
    {
     "data": {
      "image/png": "[encoded data removed]",
      "text/plain": [
       "<Figure size 432x432 with 1 Axes>"
      ]
     },
     "metadata": {
      "needs_background": "light"
     },
     "output_type": "display_data"
    }
   ],
   "source": [
    "plt.figure(figsize =(6, 6)) \n",
    "plt.scatter(iris_data['sepal_length'],iris_data['sepal_width'],predicted_labels, cmap ='rainbow')\n",
    "plt.show()\n",
    "\n",
    "plt.figure(figsize =(6, 6)) \n",
    "plt.scatter(iris_data['sepal_length'],iris_data['sepal_width'],train_labels, cmap ='rainbow')\n",
    "plt.show()"
   ]
  },
  {
   "cell_type": "code",
   "execution_count": 10,
   "metadata": {},
   "outputs": [
    {
     "data": {
      "image/png": "[encoded data removed]",
      "text/plain": [
       "<Figure size 432x432 with 1 Axes>"
      ]
     },
     "metadata": {
      "needs_background": "light"
     },
     "output_type": "display_data"
    },
    {
     "data": {
      "image/png": "[encoded data removed]",
      "text/plain": [
       "<Figure size 432x432 with 1 Axes>"
      ]
     },
     "metadata": {
      "needs_background": "light"
     },
     "output_type": "display_data"
    }
   ],
   "source": [
    "plt.figure(figsize =(6, 6)) \n",
    "plt.scatter(iris_data['sepal_length'],iris_data['petal_length'],predicted_labels, cmap ='rainbow')\n",
    "plt.show()\n",
    "\n",
    "plt.figure(figsize =(6, 6)) \n",
    "plt.scatter(iris_data['sepal_length'],iris_data['petal_length'],train_labels, cmap ='rainbow')\n",
    "plt.show()"
   ]
  },
  {
   "cell_type": "code",
   "execution_count": 11,
   "metadata": {},
   "outputs": [
    {
     "data": {
      "image/png": "[encoded data removed]",
      "text/plain": [
       "<Figure size 432x432 with 1 Axes>"
      ]
     },
     "metadata": {
      "needs_background": "light"
     },
     "output_type": "display_data"
    },
    {
     "data": {
      "image/png": "[encoded data removed]",
      "text/plain": [
       "<Figure size 432x432 with 1 Axes>"
      ]
     },
     "metadata": {
      "needs_background": "light"
     },
     "output_type": "display_data"
    }
   ],
   "source": [
    "plt.figure(figsize =(6, 6)) \n",
    "plt.scatter(iris_data['sepal_length'],iris_data['petal_width'],predicted_labels, cmap ='rainbow')\n",
    "plt.show()\n",
    "\n",
    "plt.figure(figsize =(6, 6)) \n",
    "plt.scatter(iris_data['sepal_length'],iris_data['petal_width'],train_labels, cmap ='rainbow')\n",
    "plt.show()"
   ]
  },
  {
   "cell_type": "code",
   "execution_count": 12,
   "metadata": {},
   "outputs": [
    {
     "data": {
      "image/png": "[encoded data removed]",
      "text/plain": [
       "<Figure size 432x432 with 1 Axes>"
      ]
     },
     "metadata": {
      "needs_background": "light"
     },
     "output_type": "display_data"
    },
    {
     "data": {
      "image/png": "[encoded data removed]",
      "text/plain": [
       "<Figure size 432x432 with 1 Axes>"
      ]
     },
     "metadata": {
      "needs_background": "light"
     },
     "output_type": "display_data"
    }
   ],
   "source": [
    "plt.figure(figsize =(6, 6)) \n",
    "plt.scatter(iris_data['sepal_width'],iris_data['petal_length'],predicted_labels, cmap ='rainbow')\n",
    "plt.show()\n",
    "\n",
    "plt.figure(figsize =(6, 6)) \n",
    "plt.scatter(iris_data['sepal_width'],iris_data['petal_length'],train_labels, cmap ='rainbow')\n",
    "plt.show()"
   ]
  },
  {
   "cell_type": "code",
   "execution_count": 13,
   "metadata": {},
   "outputs": [
    {
     "data": {
      "image/png": "[encoded data removed]",
      "text/plain": [
       "<Figure size 432x432 with 1 Axes>"
      ]
     },
     "metadata": {
      "needs_background": "light"
     },
     "output_type": "display_data"
    },
    {
     "data": {
      "image/png": "[encoded data removed]",
      "text/plain": [
       "<Figure size 432x432 with 1 Axes>"
      ]
     },
     "metadata": {
      "needs_background": "light"
     },
     "output_type": "display_data"
    }
   ],
   "source": [
    "plt.figure(figsize =(6, 6)) \n",
    "plt.scatter(iris_data['sepal_width'],iris_data['petal_width'],predicted_labels, cmap ='rainbow')\n",
    "plt.show()\n",
    "\n",
    "plt.figure(figsize =(6, 6)) \n",
    "plt.scatter(iris_data['sepal_width'],iris_data['petal_width'],train_labels, cmap ='rainbow')\n",
    "plt.show()"
   ]
  },
  {
   "cell_type": "code",
   "execution_count": 14,
   "metadata": {},
   "outputs": [
    {
     "data": {
      "image/png": "[encoded data removed]",
      "text/plain": [
       "<Figure size 432x432 with 1 Axes>"
      ]
     },
     "metadata": {
      "needs_background": "light"
     },
     "output_type": "display_data"
    },
    {
     "data": {
      "image/png": "[encoded data removed]",
      "text/plain": [
       "<Figure size 432x432 with 1 Axes>"
      ]
     },
     "metadata": {
      "needs_background": "light"
     },
     "output_type": "display_data"
    }
   ],
   "source": [
    "plt.figure(figsize =(6, 6)) \n",
    "plt.scatter(iris_data['petal_length'],iris_data['petal_width'],predicted_labels, cmap ='rainbow')\n",
    "plt.show()\n",
    "\n",
    "plt.figure(figsize =(6, 6)) \n",
    "plt.scatter(iris_data['petal_length'],iris_data['petal_width'],train_labels, cmap ='rainbow')\n",
    "plt.show()"
   ]
  },
  {
   "cell_type": "code",
   "execution_count": null,
   "metadata": {},
   "outputs": [],
   "source": []
  }
 ],
 "metadata": {
  "kernelspec": {
   "display_name": "Python 3",
   "language": "python",
   "name": "python3"
  },
  "language_info": {
   "codemirror_mode": {
    "name": "ipython",
    "version": 3
   },
   "file_extension": ".py",
   "mimetype": "text/x-python",
   "name": "python",
   "nbconvert_exporter": "python",
   "pygments_lexer": "ipython3",
   "version": "3.7.7"
  }
 },
 "nbformat": 4,
 "nbformat_minor": 2
}
