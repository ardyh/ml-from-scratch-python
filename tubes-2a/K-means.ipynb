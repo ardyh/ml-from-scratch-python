{
 "cells": [
  {
   "cell_type": "markdown",
   "metadata": {},
   "source": [
    "# Tugas Besar 2A - Pembelajaran Mesin\n",
    "\n",
    "\n",
    "#### Anggota Kelompok\n",
    "1. Ahmad Mutawalli - 13517026, K02\n",
    "2. Harry Rahmadi Munly - 13517033, K03\n",
    "3. Ardysatrio Fakhri Haroen - 13517062, K02\n",
    "4. Dandi Agus Maulana - 13517077, K02"
   ]
  },
  {
   "cell_type": "markdown",
   "metadata": {},
   "source": [
    "## Import Dependencies"
   ]
  },
  {
   "cell_type": "code",
   "execution_count": 152,
   "metadata": {},
   "outputs": [],
   "source": [
    "import sys\n",
    "import random\n",
    "import copy\n",
    "import time\n",
    "import math\n",
    "import pandas as pd\n",
    "import numpy as np\n",
    "import matplotlib.pyplot as plt\n",
    "\n",
    "from sklearn.datasets import load_iris\n",
    "from sklearn import decomposition"
   ]
  },
  {
   "cell_type": "markdown",
   "metadata": {},
   "source": [
    "## Implementasi modul K-means"
   ]
  },
  {
   "cell_type": "code",
   "execution_count": 396,
   "metadata": {},
   "outputs": [],
   "source": [
    "class Kmeans():\n",
    "    def __init__(self, cluster=4, max_iter=10):\n",
    "        self.cluster = cluster\n",
    "        self.max_iter = max_iter\n",
    "        self.kmeans_centroids = []\n",
    "    \n",
    "    # Init centroids\n",
    "    def init_centroid(self, data):\n",
    "        num_data, num_feature = np.shape(data)\n",
    "        centroids = np.zeros((self.cluster, num_feature))\n",
    "        for i in range(self.cluster):\n",
    "            centroid = data[np.random.choice(range(num_data))]\n",
    "            centroids[i] = centroid\n",
    "        return centroids\n",
    "\n",
    "    #calculate euclidean distance\n",
    "    def euclidean_distance (self, p1, p2):\n",
    "        sum_square = 0\n",
    "        for i in range(0, len(p1)):\n",
    "            sum_square += math.pow(float(p1[i]) - float(p2[i]), 2)\n",
    "        return float(math.sqrt(sum_square))\n",
    "\n",
    "    # get closer centroid from a point\n",
    "    def get_closest_centroid(self, point, centroids):\n",
    "        index = -1\n",
    "        min_dist = 999999.0\n",
    "        for i, centroid in enumerate(centroids):\n",
    "            distance = self.euclidean_distance(point, centroid)\n",
    "            if distance < min_dist:\n",
    "                index = i\n",
    "                min_dist = distance\n",
    "        return index\n",
    "\n",
    "    # get clustering\n",
    "    def assign_cluster(self, centroids, data):\n",
    "        num_data = np.shape(data)[0]\n",
    "        clusters = [[] for i in range(self.cluster)]\n",
    "        for idx, value in enumerate(data):\n",
    "            closest_centroid = self.get_closest_centroid(value, centroids)\n",
    "            clusters[closest_centroid].append(idx)\n",
    "        return clusters\n",
    "\n",
    "    # make new centroids from the means of data in each cluster\n",
    "    def make_new_centroids(self, clusters, data):\n",
    "        num_feature = np.shape(data)[1]\n",
    "        centroids = np.zeros((self.cluster, num_feature))\n",
    "        for i, cluster in enumerate(clusters):\n",
    "            centroid = np.mean(data[cluster], axis=0)\n",
    "            centroids[i] = centroid\n",
    "        return centroids\n",
    "\n",
    "    # get label of data\n",
    "    def get_cluster_labels(self, clusters, data):\n",
    "        # One prediction for each sample\n",
    "        label = np.zeros(np.shape(data)[0])\n",
    "        for idx, cluster in enumerate(clusters):\n",
    "            for sample_idx in cluster:\n",
    "                label[sample_idx] = idx\n",
    "        return label\n",
    "\n",
    "    def check_change(self, data1, data2):\n",
    "        change = False\n",
    "        for i in range (len(data1)):\n",
    "            if(not change):\n",
    "                for j in range(len(data1[i])):\n",
    "                    if (data1[i][j] != data2[i][j]):\n",
    "                        change = True\n",
    "                        break\n",
    "        return change\n",
    "    \n",
    "    # run k-means clustering and return the centroids of the clusters\n",
    "    def fit(self, data):\n",
    "        # Initialize centroids\n",
    "        centroids = self.init_centroid(data)\n",
    "\n",
    "        # Iterate until convergence or for max iterations\n",
    "        for i in range(self.max_iter):\n",
    "            # Assign samples to closest centroids (create clusters)\n",
    "            clusters = self.assign_cluster(centroids, data)\n",
    "\n",
    "            prev_centroids = centroids\n",
    "            # Calculate new centroids from the clusters\n",
    "            centroids = self.make_new_centroids(clusters, data)\n",
    "\n",
    "            # break if no change \n",
    "            if (not self.check_change(prev_centroids, centroids)):\n",
    "                print(\"stop at iter :\" + str(i))\n",
    "                break\n",
    "\n",
    "        self.kmeans_centroids = centroids\n",
    "        return centroids\n",
    "\n",
    "    # Predict the class of each sample\n",
    "    def predict(self, data):\n",
    "        \n",
    "        clusters = self.assign_cluster(self.kmeans_centroids, data)\n",
    "\n",
    "        predicted_labels = self.get_cluster_labels(clusters, data)\n",
    "\n",
    "        return predicted_labels\n"
   ]
  },
  {
   "cell_type": "markdown",
   "metadata": {},
   "source": [
    "## Clustering with K-means"
   ]
  },
  {
   "cell_type": "code",
   "execution_count": 397,
   "metadata": {},
   "outputs": [
    {
     "data": {
      "text/html": [
       "<div>\n",
       "<style scoped>\n",
       "    .dataframe tbody tr th:only-of-type {\n",
       "        vertical-align: middle;\n",
       "    }\n",
       "\n",
       "    .dataframe tbody tr th {\n",
       "        vertical-align: top;\n",
       "    }\n",
       "\n",
       "    .dataframe thead th {\n",
       "        text-align: right;\n",
       "    }\n",
       "</style>\n",
       "<table border=\"1\" class=\"dataframe\">\n",
       "  <thead>\n",
       "    <tr style=\"text-align: right;\">\n",
       "      <th></th>\n",
       "      <th>sepal_length</th>\n",
       "      <th>sepal_width</th>\n",
       "      <th>petal_length</th>\n",
       "      <th>petal_width</th>\n",
       "      <th>label</th>\n",
       "    </tr>\n",
       "  </thead>\n",
       "  <tbody>\n",
       "    <tr>\n",
       "      <th>0</th>\n",
       "      <td>5.1</td>\n",
       "      <td>3.5</td>\n",
       "      <td>1.4</td>\n",
       "      <td>0.2</td>\n",
       "      <td>0</td>\n",
       "    </tr>\n",
       "    <tr>\n",
       "      <th>1</th>\n",
       "      <td>4.9</td>\n",
       "      <td>3.0</td>\n",
       "      <td>1.4</td>\n",
       "      <td>0.2</td>\n",
       "      <td>0</td>\n",
       "    </tr>\n",
       "    <tr>\n",
       "      <th>2</th>\n",
       "      <td>4.7</td>\n",
       "      <td>3.2</td>\n",
       "      <td>1.3</td>\n",
       "      <td>0.2</td>\n",
       "      <td>0</td>\n",
       "    </tr>\n",
       "    <tr>\n",
       "      <th>3</th>\n",
       "      <td>4.6</td>\n",
       "      <td>3.1</td>\n",
       "      <td>1.5</td>\n",
       "      <td>0.2</td>\n",
       "      <td>0</td>\n",
       "    </tr>\n",
       "    <tr>\n",
       "      <th>4</th>\n",
       "      <td>5.0</td>\n",
       "      <td>3.6</td>\n",
       "      <td>1.4</td>\n",
       "      <td>0.2</td>\n",
       "      <td>0</td>\n",
       "    </tr>\n",
       "  </tbody>\n",
       "</table>\n",
       "</div>"
      ],
      "text/plain": [
       "   sepal_length  sepal_width  petal_length  petal_width  label\n",
       "0           5.1          3.5           1.4          0.2      0\n",
       "1           4.9          3.0           1.4          0.2      0\n",
       "2           4.7          3.2           1.3          0.2      0\n",
       "3           4.6          3.1           1.5          0.2      0\n",
       "4           5.0          3.6           1.4          0.2      0"
      ]
     },
     "execution_count": 397,
     "metadata": {},
     "output_type": "execute_result"
    }
   ],
   "source": [
    "#Load dataset iris\n",
    "X_iris, y_iris = load_iris(return_X_y=True)\n",
    "iris_data = pd.DataFrame(X_iris, columns=['sepal_length', 'sepal_width', 'petal_length', 'petal_width']); iris_data['label'] = y_iris\n",
    "iris_data.head()"
   ]
  },
  {
   "cell_type": "code",
   "execution_count": 431,
   "metadata": {},
   "outputs": [],
   "source": [
    "iris = load_iris()\n",
    "train_data = np.array(iris.data)\n",
    "train_labels = np.array(iris.target)\n",
    "num_features = train_data.data.shape[1]"
   ]
  },
  {
   "cell_type": "code",
   "execution_count": 436,
   "metadata": {},
   "outputs": [
    {
     "name": "stdout",
     "output_type": "stream",
     "text": [
      "Centroid :\n",
      "stop at iter :13\n",
      "[[5.006      3.428      1.462      0.246     ]\n",
      " [6.85384615 3.07692308 5.71538462 2.05384615]\n",
      " [5.88360656 2.74098361 4.38852459 1.43442623]]\n",
      "\n",
      "\n",
      "Predicted label :\n",
      "[0. 0. 0. 0. 0. 0. 0. 0. 0. 0. 0. 0. 0. 0. 0. 0. 0. 0. 0. 0. 0. 0. 0. 0.\n",
      " 0. 0. 0. 0. 0. 0. 0. 0. 0. 0. 0. 0. 0. 0. 0. 0. 0. 0. 0. 0. 0. 0. 0. 0.\n",
      " 0. 0. 1. 2. 1. 2. 2. 2. 2. 2. 2. 2. 2. 2. 2. 2. 2. 2. 2. 2. 2. 2. 2. 2.\n",
      " 2. 2. 2. 2. 2. 1. 2. 2. 2. 2. 2. 2. 2. 2. 2. 2. 2. 2. 2. 2. 2. 2. 2. 2.\n",
      " 2. 2. 2. 2. 1. 2. 1. 1. 1. 1. 2. 1. 1. 1. 1. 1. 1. 2. 2. 1. 1. 1. 1. 2.\n",
      " 1. 2. 1. 2. 1. 1. 2. 2. 1. 1. 1. 1. 1. 2. 1. 1. 1. 1. 2. 1. 1. 1. 2. 1.\n",
      " 1. 1. 2. 1. 1. 2.]\n"
     ]
    }
   ],
   "source": [
    "kmean = Kmeans(cluster=num_classes, max_iter=1000)\n",
    "\n",
    "print(\"Centroid :\")\n",
    "centroids = kmean.fit(train_data)\n",
    "print(centroids)\n",
    "\n",
    "print(\"\\n\")\n",
    "print(\"Predicted label :\")\n",
    "predicted_labels = kmean.predict(train_data)\n",
    "print(predicted_labels)"
   ]
  },
  {
   "cell_type": "code",
   "execution_count": 437,
   "metadata": {},
   "outputs": [
    {
     "name": "stdout",
     "output_type": "stream",
     "text": [
      "K-Means Classification Accuracy =  0.44666666666666666\n"
     ]
    }
   ],
   "source": [
    "# Calculate accuracy\n",
    "Correct = 0\n",
    "for index in range(len(train_labels)):\n",
    "    current_label = train_labels[index]\n",
    "    predicted_label = predicted_labels[index]\n",
    "    if current_label == predicted_label:\n",
    "        Correct += 1\n",
    "\n",
    "Accuracy = Correct / len(train_labels)\n",
    "\n",
    "print(\"K-Means Classification Accuracy = \", Accuracy)"
   ]
  },
  {
   "cell_type": "code",
   "execution_count": null,
   "metadata": {},
   "outputs": [],
   "source": []
  }
 ],
 "metadata": {
  "kernelspec": {
   "display_name": "Python 3",
   "language": "python",
   "name": "python3"
  },
  "language_info": {
   "codemirror_mode": {
    "name": "ipython",
    "version": 3
   },
   "file_extension": ".py",
   "mimetype": "text/x-python",
   "name": "python",
   "nbconvert_exporter": "python",
   "pygments_lexer": "ipython3",
   "version": "3.7.7"
  }
 },
 "nbformat": 4,
 "nbformat_minor": 2
}
