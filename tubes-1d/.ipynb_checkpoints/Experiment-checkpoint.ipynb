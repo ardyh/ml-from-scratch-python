{
 "cells": [
  {
   "cell_type": "markdown",
   "metadata": {},
   "source": [
    "# Tugas Besar 1D - Pembelajaran Mesin\n",
    "\n",
    "\n",
    "#### Anggota Kelompok\n",
    "1. Ahmad Mutawalli - 13517026, K02\n",
    "2. Harry Rahmadi Munly - 13517033, K03\n",
    "3. Ardysatrio Fakhri Haroen - 13517062, K02\n",
    "4. Dandi Agus Maulana - 13517077, K02"
   ]
  },
  {
   "cell_type": "markdown",
   "metadata": {},
   "source": [
    "## A. Import Dependencies and Load Data"
   ]
  },
  {
   "cell_type": "code",
   "execution_count": 13,
   "metadata": {},
   "outputs": [],
   "source": [
    "import numpy as np\n",
    "import pandas as pd\n",
    "import seaborn as sns\n",
    "import matplotlib.pyplot as plt\n",
    "\n",
    "from sklearn.model_selection import train_test_split\n",
    "from sklearn.datasets import load_iris\n",
    "from sklearn.model_selection import KFold\n",
    "from sklearn.model_selection import train_test_split\n",
    "from sklearn.metrics import confusion_matrix\n",
    "\n",
    "import os\n",
    "import sys\n",
    "import joblib\n",
    "\n",
    "from dtl.myC45 import Tree as MyC45\n",
    "from mlp.MyMLP import Network as MyMLP\n",
    "\n",
    "import warnings\n",
    "warnings.filterwarnings('ignore')\n",
    "\n",
    "from __future__ import print_function"
   ]
  },
  {
   "cell_type": "code",
   "execution_count": 14,
   "metadata": {},
   "outputs": [
    {
     "data": {
      "text/html": [
       "<div>\n",
       "<style scoped>\n",
       "    .dataframe tbody tr th:only-of-type {\n",
       "        vertical-align: middle;\n",
       "    }\n",
       "\n",
       "    .dataframe tbody tr th {\n",
       "        vertical-align: top;\n",
       "    }\n",
       "\n",
       "    .dataframe thead th {\n",
       "        text-align: right;\n",
       "    }\n",
       "</style>\n",
       "<table border=\"1\" class=\"dataframe\">\n",
       "  <thead>\n",
       "    <tr style=\"text-align: right;\">\n",
       "      <th></th>\n",
       "      <th>sepal_length</th>\n",
       "      <th>sepal_width</th>\n",
       "      <th>petal_length</th>\n",
       "      <th>petal_width</th>\n",
       "      <th>label</th>\n",
       "    </tr>\n",
       "  </thead>\n",
       "  <tbody>\n",
       "    <tr>\n",
       "      <th>79</th>\n",
       "      <td>5.7</td>\n",
       "      <td>2.6</td>\n",
       "      <td>3.5</td>\n",
       "      <td>1.0</td>\n",
       "      <td>1</td>\n",
       "    </tr>\n",
       "    <tr>\n",
       "      <th>76</th>\n",
       "      <td>6.8</td>\n",
       "      <td>2.8</td>\n",
       "      <td>4.8</td>\n",
       "      <td>1.4</td>\n",
       "      <td>1</td>\n",
       "    </tr>\n",
       "    <tr>\n",
       "      <th>113</th>\n",
       "      <td>5.7</td>\n",
       "      <td>2.5</td>\n",
       "      <td>5.0</td>\n",
       "      <td>2.0</td>\n",
       "      <td>2</td>\n",
       "    </tr>\n",
       "    <tr>\n",
       "      <th>41</th>\n",
       "      <td>4.5</td>\n",
       "      <td>2.3</td>\n",
       "      <td>1.3</td>\n",
       "      <td>0.3</td>\n",
       "      <td>0</td>\n",
       "    </tr>\n",
       "    <tr>\n",
       "      <th>54</th>\n",
       "      <td>6.5</td>\n",
       "      <td>2.8</td>\n",
       "      <td>4.6</td>\n",
       "      <td>1.5</td>\n",
       "      <td>1</td>\n",
       "    </tr>\n",
       "  </tbody>\n",
       "</table>\n",
       "</div>"
      ],
      "text/plain": [
       "     sepal_length  sepal_width  petal_length  petal_width  label\n",
       "79            5.7          2.6           3.5          1.0      1\n",
       "76            6.8          2.8           4.8          1.4      1\n",
       "113           5.7          2.5           5.0          2.0      2\n",
       "41            4.5          2.3           1.3          0.3      0\n",
       "54            6.5          2.8           4.6          1.5      1"
      ]
     },
     "execution_count": 14,
     "metadata": {},
     "output_type": "execute_result"
    }
   ],
   "source": [
    "#Load dataset\n",
    "X_iris, y_iris = load_iris(return_X_y=True)\n",
    "iris_data = pd.DataFrame(X_iris, columns=['sepal_length', 'sepal_width', 'petal_length', 'petal_width']); iris_data['label'] = y_iris\n",
    "iris_data = iris_data.sample(frac=1)\n",
    "X_iris = iris_data.drop('label', axis=1)\n",
    "y_iris = iris_data['label']\n",
    "iris_data.head()"
   ]
  },
  {
   "cell_type": "markdown",
   "metadata": {},
   "source": [
    "## B. Define Functions and Procedures"
   ]
  },
  {
   "cell_type": "code",
   "execution_count": 15,
   "metadata": {},
   "outputs": [],
   "source": [
    "#mencetak confusion matrix dengan layout yang mudah dilihat\n",
    "def print_confusion_matrix(y_test, pred_result):\n",
    "    cm = confusion_matrix(y_test, pred_result)\n",
    "    cm = pd.DataFrame(cm, index=[i for i in range(3)], columns=[i for i in range(3)])\n",
    "    sns.heatmap(cm, annot=True)\n",
    "    plt.show()\n",
    "    \n",
    "#menghitung skor akurasi     \n",
    "def accuracy_score(target, pred):\n",
    "    sums = 0\n",
    "    for i in range(len(pred)):\n",
    "        if(pred[i] == target[i]):\n",
    "           sums += 1\n",
    "    return float(sums)/float(len(pred))\n",
    "\n",
    "#Membagi data dengan cross-validation\n",
    "def split_data_crossval(X, y, n_split=10):\n",
    "    #Splitting data: KFold Cross Validation Indexing\n",
    "    kfold = KFold(n_splits=n_split)\n",
    "    split = kfold.split(X, y)\n",
    "\n",
    "    train_indexes = []\n",
    "    test_indexes = []\n",
    "    for train, test in split:\n",
    "        train_indexes.append(train)\n",
    "        test_indexes.append(test)\n",
    "    \n",
    "    return train_indexes, test_indexes \n",
    "\n",
    "#melakukan iterasi k-fold cross validation\n",
    "def cross_validate(X, y, model_name):\n",
    "    \n",
    "    #get train and test indexes\n",
    "    train_indexes, test_indexes = split_data_crossval(X, y)\n",
    "\n",
    "    scores = []\n",
    "    #for each indexes in train_idx, train and test the model on it\n",
    "    for train_idx, test_idx in zip(train_indexes, test_indexes):\n",
    "        X_train = X[train_idx]; y_train = y[train_idx]\n",
    "        X_test = X[test_idx]; y_test = y[test_idx]\n",
    "        \n",
    "        if(model_name == 'c45'):\n",
    "            #train model\n",
    "            train_data = pd.DataFrame(X_train, columns=['sepal_length', 'sepal_width', 'petal_length', 'petal_width'])\n",
    "            train_data['label'] = pd.Series(y_train)\n",
    "            \n",
    "            test_data = pd.DataFrame(X_test, columns=['sepal_length', 'sepal_width', 'petal_length', 'petal_width'])\n",
    "            test_data['label'] = pd.Series(y_test)\n",
    "                        \n",
    "            clf = MyC45(train_data, 'label')\n",
    "            clf.make_tree()\n",
    "            \n",
    "            #get result\n",
    "            pred_result = clf.predict(pd.DataFrame(test_data))\n",
    "            #get accuracy\n",
    "            scores.append(accuracy_score(pred_result, y_test))\n",
    "            \n",
    "        elif(model_name == 'mlp'):\n",
    "            #train model\n",
    "            net = MyMLP(4, 4)\n",
    "            net.fit(X_train, y_train, epoch_limit=100)\n",
    "            \n",
    "            #get result\n",
    "            pred_result = net.predict(X_test)\n",
    "            #get accuracy\n",
    "            scores.append(accuracy_score(pred_result, y_test))\n",
    "            \n",
    "    #return list of cross val scores\n",
    "    return scores\n",
    "               "
   ]
  },
  {
   "cell_type": "markdown",
   "metadata": {},
   "source": [
    "\n",
    "## C. Train Test Split and Confusion Matrix"
   ]
  },
  {
   "cell_type": "markdown",
   "metadata": {},
   "source": [
    "### C.1. Model C4.5"
   ]
  },
  {
   "cell_type": "code",
   "execution_count": 16,
   "metadata": {},
   "outputs": [
    {
     "name": "stdout",
     "output_type": "stream",
     "text": [
      "-------predict-------\n",
      "Prediction with C4.5\n",
      "Prediction Accuracy: 100.0%\n",
      "CONFUSION MATRIX (Row:True, Column:Prediction)\n"
     ]
    },
    {
     "data": {
      "image/png": "[encoded data removed]",
      "text/plain": [
       "<Figure size 432x288 with 2 Axes>"
      ]
     },
     "metadata": {
      "needs_background": "light"
     },
     "output_type": "display_data"
    }
   ],
   "source": [
    "#split data\n",
    "X_train, X_test, y_train, y_test = train_test_split(X_iris, y_iris, test_size=0.1, random_state=42)\n",
    "\n",
    "#train model\n",
    "train_data = pd.DataFrame(X_train, columns=['sepal_length', 'sepal_width', 'petal_length', 'petal_width'])\n",
    "train_data['label'] = pd.Series(y_train)\n",
    "            \n",
    "test_data = pd.DataFrame(X_test, columns=['sepal_length', 'sepal_width', 'petal_length', 'petal_width'])\n",
    "test_data['label'] = pd.Series(y_test)\n",
    "\n",
    "clf = MyC45(train_data, 'label')\n",
    "clf.make_tree()\n",
    "\n",
    "#get result\n",
    "pred_result = clf.predict(pd.DataFrame(test_data))\n",
    "\n",
    "#print Accuracy\n",
    "print(\"Prediction with C4.5\")\n",
    "print(\"Prediction Accuracy: \", accuracy_score(y_test.values, pred_result) * 100 , \"%\", sep='')\n",
    "\n",
    "#print confusion matrix\n",
    "print(\"CONFUSION MATRIX (Row:True, Column:Prediction)\")\n",
    "print_confusion_matrix(y_test, pred_result)"
   ]
  },
  {
   "cell_type": "markdown",
   "metadata": {},
   "source": [
    "### C.2. Model MLP"
   ]
  },
  {
   "cell_type": "code",
   "execution_count": 17,
   "metadata": {},
   "outputs": [
    {
     "name": "stdout",
     "output_type": "stream",
     "text": [
      "Prediction with MLP\n",
      "Prediction Accuracy: 60.0%\n",
      "CONFUSION MATRIX (Row:True, Column:Prediction)\n"
     ]
    },
    {
     "data": {
      "image/png": "[encoded data removed]",
      "text/plain": [
       "<Figure size 432x288 with 2 Axes>"
      ]
     },
     "metadata": {
      "needs_background": "light"
     },
     "output_type": "display_data"
    }
   ],
   "source": [
    "#split data\n",
    "X_train, X_test, y_train, y_test = train_test_split(X_iris, y_iris, test_size=0.1, random_state=42)\n",
    "\n",
    "#train model\n",
    "net = MyMLP(4, 4)\n",
    "net.fit(X_train.values, y_train.values, epoch_limit=100)\n",
    "\n",
    "#get result\n",
    "pred_result = net.predict(X_test.values)\n",
    "\n",
    "#print Accuracy\n",
    "print(\"Prediction with MLP\")\n",
    "print(\"Prediction Accuracy: \", accuracy_score(y_test.values, pred_result) * 100 , \"%\", sep='')\n",
    "\n",
    "#print confusion matrix\n",
    "print(\"CONFUSION MATRIX (Row:True, Column:Prediction)\")\n",
    "print_confusion_matrix(y_test, pred_result)"
   ]
  },
  {
   "cell_type": "markdown",
   "metadata": {},
   "source": [
    "## D. 10-fold Cross Validation"
   ]
  },
  {
   "cell_type": "markdown",
   "metadata": {},
   "source": [
    "### D.1. Model C4.5"
   ]
  },
  {
   "cell_type": "code",
   "execution_count": 25,
   "metadata": {},
   "outputs": [
    {
     "name": "stdout",
     "output_type": "stream",
     "text": [
      "-------predict-------\n",
      "-------predict-------\n",
      "-------predict-------\n",
      "-------predict-------\n",
      "-------predict-------\n",
      "-------predict-------\n",
      "-------predict-------\n",
      "-------predict-------\n",
      "-------predict-------\n",
      "-------predict-------\n",
      "Average From 10-fold Cross Validation with C4.5: 0.9466666666666667\n"
     ]
    }
   ],
   "source": [
    "c45_score = cross_validate(X_iris.values, y_iris.values, 'c45')\n",
    "print(\"Average From 10-fold Cross Validation with C4.5:\", np.mean(np.array(c45_score)))"
   ]
  },
  {
   "cell_type": "markdown",
   "metadata": {},
   "source": [
    "### D.2. Model MLP"
   ]
  },
  {
   "cell_type": "code",
   "execution_count": 19,
   "metadata": {},
   "outputs": [
    {
     "name": "stdout",
     "output_type": "stream",
     "text": [
      "Average From 10-fold Cross Validation with MLP: 0.9800000000000001\n"
     ]
    }
   ],
   "source": [
    "mlp_score = cross_validate(X_iris.values, y_iris.values, 'mlp')\n",
    "print(\"Average From 10-fold Cross Validation with MLP:\", np.mean(np.array(mlp_score)))"
   ]
  },
  {
   "cell_type": "markdown",
   "metadata": {},
   "source": [
    "## E. Export and Import Model"
   ]
  },
  {
   "cell_type": "markdown",
   "metadata": {},
   "source": [
    "\n",
    "### E.1. C4.5"
   ]
  },
  {
   "cell_type": "markdown",
   "metadata": {},
   "source": [
    "#### E.1.A. Export C4.5"
   ]
  },
  {
   "cell_type": "code",
   "execution_count": null,
   "metadata": {},
   "outputs": [],
   "source": [
    "def get_model_myC45(node, depth, space, array):\n",
    "    if (depth == 0):\n",
    "        dash = ''\n",
    "    else:\n",
    "        dash = ('--'*space)*depth + node.parent_value + ' '\n",
    "        \n",
    "    if(node.is_leaf):\n",
    "        output = dash + '{' + str(node.leaf_value) + '}'\n",
    "    else:\n",
    "        output = dash + '[' + node.split_attr + ']' \n",
    "    \n",
    "    array.append(output)\n",
    "    \n",
    "    depth += 1\n",
    "    for child in node.childs:\n",
    "        get_model_myC45(child, depth, space, array)\n",
    "        \n",
    "# export file\n",
    "def export_tree(filename, tipe):\n",
    "    model = []\n",
    "#     if(tipe==\"ID3\"):\n",
    "#         get_model_myID3(root_tennis, 0, 2, model)\n",
    "    if(tipe==\"C45\"):\n",
    "        get_model_myC45(root_iris, 0, 2, model)\n",
    "        \n",
    "    text_file = open(filename, \"w\")\n",
    "    for L in model:\n",
    "        text_file.write(L+\"\\n\")\n",
    "    text_file.close()"
   ]
  },
  {
   "cell_type": "markdown",
   "metadata": {},
   "source": [
    "#### E.1.B. Import C4.5"
   ]
  },
  {
   "cell_type": "code",
   "execution_count": null,
   "metadata": {},
   "outputs": [],
   "source": []
  },
  {
   "cell_type": "markdown",
   "metadata": {},
   "source": [
    "### E.2. MLP"
   ]
  },
  {
   "cell_type": "markdown",
   "metadata": {},
   "source": [
    "#### E.2.A. Export MLP"
   ]
  },
  {
   "cell_type": "code",
   "execution_count": 22,
   "metadata": {},
   "outputs": [
    {
     "name": "stdout",
     "output_type": "stream",
     "text": [
      "          Hidden0   Hidden1   Hidden2   Hidden3\n",
      "WInput0 -0.586721  0.649133 -0.119961  0.630740\n",
      "WInput1 -0.605285  0.778865 -0.664834  1.798138\n",
      "WInput2  0.095416 -0.343622 -0.899432 -1.613868\n",
      "WInput3 -0.652099  0.955898  0.008259 -1.799642\n",
      "WInput4 -0.877906 -0.328951 -0.739699 -0.276690\n",
      "           Output0   Output1   Output2\n",
      "WHidden0 -0.814972  0.951839  0.800460\n",
      "WHidden1 -2.404492 -0.201067  0.342303\n",
      "WHidden2  0.341032  0.231238 -0.012775\n",
      "WHidden3  6.477397 -1.074995 -6.254495\n",
      "WHidden4 -2.051648 -0.147493  0.584832\n"
     ]
    },
    {
     "data": {
      "text/plain": [
       "['mlp_model.sav']"
      ]
     },
     "execution_count": 22,
     "metadata": {},
     "output_type": "execute_result"
    }
   ],
   "source": [
    "#Train Model\n",
    "clf = MyMLP(4, 4)\n",
    "clf.fit(X_iris.values, y_iris.values, epoch_limit=100)\n",
    "\n",
    "#show weights\n",
    "clf.print_w_ItoH()\n",
    "clf.print_w_HtoO()\n",
    "\n",
    "#Save model\n",
    "filename = 'mlp_model.sav'\n",
    "joblib.dump(clf, filename)"
   ]
  },
  {
   "cell_type": "markdown",
   "metadata": {},
   "source": [
    "#### E.2.B. Import MLP"
   ]
  },
  {
   "cell_type": "code",
   "execution_count": 23,
   "metadata": {},
   "outputs": [
    {
     "name": "stdout",
     "output_type": "stream",
     "text": [
      "          Hidden0   Hidden1   Hidden2   Hidden3\n",
      "WInput0 -0.586721  0.649133 -0.119961  0.630740\n",
      "WInput1 -0.605285  0.778865 -0.664834  1.798138\n",
      "WInput2  0.095416 -0.343622 -0.899432 -1.613868\n",
      "WInput3 -0.652099  0.955898  0.008259 -1.799642\n",
      "WInput4 -0.877906 -0.328951 -0.739699 -0.276690\n",
      "           Output0   Output1   Output2\n",
      "WHidden0 -0.814972  0.951839  0.800460\n",
      "WHidden1 -2.404492 -0.201067  0.342303\n",
      "WHidden2  0.341032  0.231238 -0.012775\n",
      "WHidden3  6.477397 -1.074995 -6.254495\n",
      "WHidden4 -2.051648 -0.147493  0.584832\n"
     ]
    }
   ],
   "source": [
    "loaded_clf = joblib.load(filename)\n",
    "loaded_clf.print_w_ItoH()\n",
    "loaded_clf.print_w_HtoO()"
   ]
  },
  {
   "cell_type": "markdown",
   "metadata": {},
   "source": [
    "Karena weight sama persis, export dan import model telah berhasil "
   ]
  },
  {
   "cell_type": "markdown",
   "metadata": {},
   "source": [
    "## F. Klasifikasi Instance Baru"
   ]
  },
  {
   "cell_type": "markdown",
   "metadata": {},
   "source": [
    "### F.1. Dengan C4.5"
   ]
  },
  {
   "cell_type": "code",
   "execution_count": null,
   "metadata": {},
   "outputs": [],
   "source": []
  },
  {
   "cell_type": "markdown",
   "metadata": {},
   "source": [
    "### F.2. Dengan MLP"
   ]
  },
  {
   "cell_type": "code",
   "execution_count": 24,
   "metadata": {},
   "outputs": [
    {
     "name": "stdout",
     "output_type": "stream",
     "text": [
      "Hasil Kelas Prediksi: 2\n"
     ]
    }
   ],
   "source": [
    "instance_pred = loaded_clf.predict(np.array([[5.5, 4.2, 5.7, 1.5]]))\n",
    "print(\"Hasil Kelas Prediksi:\", int(instance_pred[0]))"
   ]
  },
  {
   "cell_type": "code",
   "execution_count": null,
   "metadata": {},
   "outputs": [],
   "source": []
  }
 ],
 "metadata": {
  "kernelspec": {
   "display_name": "Python 3",
   "language": "python",
   "name": "python3"
  },
  "language_info": {
   "codemirror_mode": {
    "name": "ipython",
    "version": 2
   },
   "file_extension": ".py",
   "mimetype": "text/x-python",
   "name": "python",
   "nbconvert_exporter": "python",
   "pygments_lexer": "ipython2",
   "version": "2.7.17"
  }
 },
 "nbformat": 4,
 "nbformat_minor": 2
}
