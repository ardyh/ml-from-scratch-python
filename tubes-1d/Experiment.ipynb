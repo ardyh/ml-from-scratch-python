{
 "cells": [
  {
   "cell_type": "markdown",
   "metadata": {},
   "source": [
    "# Tugas Besar 1D - Pembelajaran Mesin\n",
    "\n",
    "\n",
    "#### Anggota Kelompok\n",
    "1. Ahmad Mutawalli - 13517026, K02\n",
    "2. Harry Rahmadi Munly - 13517033, K03\n",
    "3. Ardysatrio Fakhri Haroen - 13517062, K02\n",
    "4. Dandi Agus Maulana - 13517077, K02"
   ]
  },
  {
   "cell_type": "markdown",
   "metadata": {},
   "source": [
    "## A. Import Dependencies and Load Data"
   ]
  },
  {
   "cell_type": "code",
   "execution_count": 113,
   "metadata": {},
   "outputs": [],
   "source": [
    "import numpy as np\n",
    "import pandas as pd\n",
    "import seaborn as sns\n",
    "import matplotlib.pyplot as plt\n",
    "\n",
    "from sklearn.model_selection import train_test_split\n",
    "from sklearn.datasets import load_iris\n",
    "from sklearn.model_selection import KFold\n",
    "from sklearn.model_selection import train_test_split\n",
    "from sklearn.metrics import confusion_matrix\n",
    "\n",
    "import os\n",
    "import sys\n",
    "import joblib\n",
    "\n",
    "from dtl.myC45 import Tree as MyC45\n",
    "from mlp.MyMLP import Network as MyMLP\n",
    "\n",
    "import warnings\n",
    "warnings.filterwarnings('ignore')"
   ]
  },
  {
   "cell_type": "code",
   "execution_count": 99,
   "metadata": {},
   "outputs": [
    {
     "data": {
      "text/html": [
       "<div>\n",
       "<style scoped>\n",
       "    .dataframe tbody tr th:only-of-type {\n",
       "        vertical-align: middle;\n",
       "    }\n",
       "\n",
       "    .dataframe tbody tr th {\n",
       "        vertical-align: top;\n",
       "    }\n",
       "\n",
       "    .dataframe thead th {\n",
       "        text-align: right;\n",
       "    }\n",
       "</style>\n",
       "<table border=\"1\" class=\"dataframe\">\n",
       "  <thead>\n",
       "    <tr style=\"text-align: right;\">\n",
       "      <th></th>\n",
       "      <th>sepal_length</th>\n",
       "      <th>sepal_width</th>\n",
       "      <th>petal_length</th>\n",
       "      <th>petal_width</th>\n",
       "      <th>label</th>\n",
       "    </tr>\n",
       "  </thead>\n",
       "  <tbody>\n",
       "    <tr>\n",
       "      <th>148</th>\n",
       "      <td>6.2</td>\n",
       "      <td>3.4</td>\n",
       "      <td>5.4</td>\n",
       "      <td>2.3</td>\n",
       "      <td>2</td>\n",
       "    </tr>\n",
       "    <tr>\n",
       "      <th>113</th>\n",
       "      <td>5.7</td>\n",
       "      <td>2.5</td>\n",
       "      <td>5.0</td>\n",
       "      <td>2.0</td>\n",
       "      <td>2</td>\n",
       "    </tr>\n",
       "    <tr>\n",
       "      <th>99</th>\n",
       "      <td>5.7</td>\n",
       "      <td>2.8</td>\n",
       "      <td>4.1</td>\n",
       "      <td>1.3</td>\n",
       "      <td>1</td>\n",
       "    </tr>\n",
       "    <tr>\n",
       "      <th>95</th>\n",
       "      <td>5.7</td>\n",
       "      <td>3.0</td>\n",
       "      <td>4.2</td>\n",
       "      <td>1.2</td>\n",
       "      <td>1</td>\n",
       "    </tr>\n",
       "    <tr>\n",
       "      <th>124</th>\n",
       "      <td>6.7</td>\n",
       "      <td>3.3</td>\n",
       "      <td>5.7</td>\n",
       "      <td>2.1</td>\n",
       "      <td>2</td>\n",
       "    </tr>\n",
       "  </tbody>\n",
       "</table>\n",
       "</div>"
      ],
      "text/plain": [
       "     sepal_length  sepal_width  petal_length  petal_width  label\n",
       "148           6.2          3.4           5.4          2.3      2\n",
       "113           5.7          2.5           5.0          2.0      2\n",
       "99            5.7          2.8           4.1          1.3      1\n",
       "95            5.7          3.0           4.2          1.2      1\n",
       "124           6.7          3.3           5.7          2.1      2"
      ]
     },
     "execution_count": 99,
     "metadata": {},
     "output_type": "execute_result"
    }
   ],
   "source": [
    "#Load dataset\n",
    "X_iris, y_iris = load_iris(return_X_y=True)\n",
    "iris_data = pd.DataFrame(X_iris, columns=['sepal_length', 'sepal_width', 'petal_length', 'petal_width']); iris_data['label'] = y_iris\n",
    "iris_data = iris_data.sample(frac=1)\n",
    "X_iris = iris_data.drop('label', axis=1)\n",
    "y_iris = iris_data['label']\n",
    "iris_data.head()"
   ]
  },
  {
   "cell_type": "markdown",
   "metadata": {},
   "source": [
    "## B. Define Functions and Procedures"
   ]
  },
  {
   "cell_type": "code",
   "execution_count": 100,
   "metadata": {},
   "outputs": [],
   "source": [
    "#mencetak confusion matrix dengan layout yang mudah dilihat\n",
    "def print_confusion_matrix(y_test, pred_result):\n",
    "    cm = confusion_matrix(y_test, pred_result)\n",
    "    cm = pd.DataFrame(cm, index=[i for i in range(3)], columns=[i for i in range(3)])\n",
    "    sns.heatmap(cm, annot=True)\n",
    "    plt.show()\n",
    "    \n",
    "#menghitung skor akurasi     \n",
    "def accuracy_score(target, pred):\n",
    "    sums = 0\n",
    "    for i in range(len(pred)):\n",
    "        if(pred[i] == target[i]):\n",
    "           sums += 1\n",
    "    return float(sums)/float(len(pred))\n",
    "\n",
    "#Membagi data dengan cross-validation\n",
    "def split_data_crossval(X, y, n_split=10):\n",
    "    #Splitting data: KFold Cross Validation Indexing\n",
    "    kfold = KFold(n_splits=n_split)\n",
    "    split = kfold.split(X, y)\n",
    "\n",
    "    train_indexes = []\n",
    "    test_indexes = []\n",
    "    for train, test in split:\n",
    "        train_indexes.append(train)\n",
    "        test_indexes.append(test)\n",
    "    \n",
    "    return train_indexes, test_indexes \n",
    "\n",
    "#melakukan iterasi k-fold cross validation\n",
    "def cross_validate(X, y, model_name):\n",
    "    \n",
    "    #get train and test indexes\n",
    "    train_indexes, test_indexes = split_data_crossval(X, y)\n",
    "\n",
    "    scores = []\n",
    "    #for each indexes in train_idx, train and test the model on it\n",
    "    for train_idx, test_idx in zip(train_indexes, test_indexes):\n",
    "        X_train = X[train_idx]; y_train = y[train_idx]\n",
    "        X_test = X[test_idx]; y_test = y[test_idx]\n",
    "        \n",
    "        if(model_name == 'c45'):\n",
    "            #train model\n",
    "            train_data = pd.DataFrame(X_train, columns=['sepal_length', 'sepal_width', 'petal_length', 'petal_width'])\n",
    "            train_data['label'] = pd.Series(y_train)\n",
    "            \n",
    "            test_data = pd.DataFrame(X_test, columns=['sepal_length', 'sepal_width', 'petal_length', 'petal_width'])\n",
    "            test_data['label'] = pd.Series(y_test)\n",
    "                        \n",
    "            clf = MyC45(train_data, 'label')\n",
    "            clf.make_tree()\n",
    "            \n",
    "            #get result\n",
    "            pred_result = clf.predict(pd.DataFrame(test_data))\n",
    "            #get accuracy\n",
    "            scores.append(accuracy_score(pred_result, y_test))\n",
    "            \n",
    "        elif(model_name == 'mlp'):\n",
    "            #train model\n",
    "            net = MyMLP(4, 4)\n",
    "            net.fit(X_train, y_train, epoch_limit=100)\n",
    "            \n",
    "            #get result\n",
    "            pred_result = net.predict(X_test)\n",
    "            #get accuracy\n",
    "            scores.append(accuracy_score(pred_result, y_test))\n",
    "            \n",
    "    #return list of cross val scores\n",
    "    return scores\n",
    "               "
   ]
  },
  {
   "cell_type": "markdown",
   "metadata": {},
   "source": [
    "\n",
    "## C. Train Test Split and Confusion Matrix"
   ]
  },
  {
   "cell_type": "markdown",
   "metadata": {},
   "source": [
    "### C.1. Model C4.5"
   ]
  },
  {
   "cell_type": "code",
   "execution_count": 128,
   "metadata": {},
   "outputs": [
    {
     "name": "stdout",
     "output_type": "stream",
     "text": [
      "-------predict-------\n",
      "Prediction with C4.5\n",
      "Prediction Accuracy: 93.33333333333333%\n",
      "CONFUSION MATRIX (Row:True, Column:Prediction)\n"
     ]
    },
    {
     "data": {
      "image/png": "[encoded data removed]",
      "text/plain": [
       "<Figure size 432x288 with 2 Axes>"
      ]
     },
     "metadata": {
      "needs_background": "light"
     },
     "output_type": "display_data"
    }
   ],
   "source": [
    "#split data\n",
    "X_train, X_test, y_train, y_test = train_test_split(X_iris, y_iris, test_size=0.1, random_state=42)\n",
    "\n",
    "#train model\n",
    "train_data = pd.DataFrame(X_train, columns=['sepal_length', 'sepal_width', 'petal_length', 'petal_width'])\n",
    "train_data['label'] = pd.Series(y_train)\n",
    "            \n",
    "test_data = pd.DataFrame(X_test, columns=['sepal_length', 'sepal_width', 'petal_length', 'petal_width'])\n",
    "test_data['label'] = pd.Series(y_test)\n",
    "\n",
    "clf = MyC45(train_data, 'label')\n",
    "clf.make_tree()\n",
    "\n",
    "#get result\n",
    "pred_result = clf.predict(pd.DataFrame(test_data))\n",
    "\n",
    "#print Accuracy\n",
    "print(\"Prediction with C4.5\")\n",
    "print(\"Prediction Accuracy: \", accuracy_score(y_test.values, pred_result) * 100 , \"%\", sep='')\n",
    "\n",
    "#print confusion matrix\n",
    "print(\"CONFUSION MATRIX (Row:True, Column:Prediction)\")\n",
    "print_confusion_matrix(y_test, pred_result)"
   ]
  },
  {
   "cell_type": "markdown",
   "metadata": {},
   "source": [
    "### C.2. Model MLP"
   ]
  },
  {
   "cell_type": "code",
   "execution_count": 129,
   "metadata": {},
   "outputs": [
    {
     "name": "stdout",
     "output_type": "stream",
     "text": [
      "Prediction with MLP\n",
      "Prediction Accuracy: 93.33333333333333%\n",
      "CONFUSION MATRIX (Row:True, Column:Prediction)\n"
     ]
    },
    {
     "data": {
      "image/png": "[encoded data removed]",
      "text/plain": [
       "<Figure size 432x288 with 2 Axes>"
      ]
     },
     "metadata": {
      "needs_background": "light"
     },
     "output_type": "display_data"
    }
   ],
   "source": [
    "#split data\n",
    "X_train, X_test, y_train, y_test = train_test_split(X_iris, y_iris, test_size=0.1, random_state=42)\n",
    "\n",
    "#train model\n",
    "net = MyMLP(4, 4)\n",
    "net.fit(X_train.values, y_train.values, epoch_limit=100)\n",
    "\n",
    "#get result\n",
    "pred_result = net.predict(X_test.values)\n",
    "\n",
    "#print Accuracy\n",
    "print(\"Prediction with MLP\")\n",
    "print(\"Prediction Accuracy: \", accuracy_score(y_test.values, pred_result) * 100 , \"%\", sep='')\n",
    "\n",
    "#print confusion matrix\n",
    "print(\"CONFUSION MATRIX (Row:True, Column:Prediction)\")\n",
    "print_confusion_matrix(y_test, pred_result)"
   ]
  },
  {
   "cell_type": "markdown",
   "metadata": {},
   "source": [
    "## D. 10-fold Cross Validation"
   ]
  },
  {
   "cell_type": "markdown",
   "metadata": {},
   "source": [
    "### D.1. Model C4.5"
   ]
  },
  {
   "cell_type": "code",
   "execution_count": 111,
   "metadata": {},
   "outputs": [
    {
     "name": "stdout",
     "output_type": "stream",
     "text": [
      "-------predict-------\n",
      "-------predict-------\n",
      "-------predict-------\n",
      "-------predict-------\n",
      "-------predict-------\n",
      "-------predict-------\n",
      "-------predict-------\n",
      "-------predict-------\n",
      "-------predict-------\n",
      "-------predict-------\n",
      "Average From 10-fold Cross Validation with C4.5: 0.9466666666666667\n"
     ]
    }
   ],
   "source": [
    "c45_score = cross_validate(X_iris.values, y_iris.values, 'c45')\n",
    "print(\"Average From 10-fold Cross Validation with C4.5:\", np.mean(np.array(c45_score)))"
   ]
  },
  {
   "cell_type": "markdown",
   "metadata": {},
   "source": [
    "### D.2. Model MLP"
   ]
  },
  {
   "cell_type": "code",
   "execution_count": 112,
   "metadata": {},
   "outputs": [
    {
     "name": "stdout",
     "output_type": "stream",
     "text": [
      "Average From 10-fold Cross Validation with MLP: 0.9266666666666665\n"
     ]
    }
   ],
   "source": [
    "mlp_score = cross_validate(X_iris.values, y_iris.values, 'mlp')\n",
    "print(\"Average From 10-fold Cross Validation with MLP:\", np.mean(np.array(mlp_score)))"
   ]
  },
  {
   "cell_type": "markdown",
   "metadata": {},
   "source": [
    "## E. Export and Import Model"
   ]
  },
  {
   "cell_type": "markdown",
   "metadata": {},
   "source": [
    "\n",
    "### E.1. C4.5"
   ]
  },
  {
   "cell_type": "markdown",
   "metadata": {},
   "source": [
    "#### E.1.A. Export C4.5"
   ]
  },
  {
   "cell_type": "code",
   "execution_count": null,
   "metadata": {},
   "outputs": [],
   "source": []
  },
  {
   "cell_type": "markdown",
   "metadata": {},
   "source": [
    "#### E.1.B. Import C4.5"
   ]
  },
  {
   "cell_type": "code",
   "execution_count": null,
   "metadata": {},
   "outputs": [],
   "source": []
  },
  {
   "cell_type": "markdown",
   "metadata": {},
   "source": [
    "### E.2. MLP"
   ]
  },
  {
   "cell_type": "markdown",
   "metadata": {},
   "source": [
    "#### E.2.A. Export MLP"
   ]
  },
  {
   "cell_type": "code",
   "execution_count": 115,
   "metadata": {},
   "outputs": [
    {
     "name": "stdout",
     "output_type": "stream",
     "text": [
      "          Hidden0   Hidden1   Hidden2   Hidden3\n",
      "WInput0 -4.655383 -0.768451  0.759309  0.797660\n",
      "WInput1 -4.178536 -1.833589  0.964477  0.329022\n",
      "WInput2  6.646115  3.209918 -0.049183  0.707252\n",
      "WInput3  4.789148  1.137971  0.541495  0.036774\n",
      "WInput4 -1.398108  0.283681 -0.015717 -0.727474\n",
      "           Output0   Output1   Output2\n",
      "WHidden0 -2.687694 -4.996019  5.539504\n",
      "WHidden1 -5.530517  5.206091  1.140628\n",
      "WHidden2  2.085549  0.139709 -1.035228\n",
      "WHidden3  0.113448 -1.054427 -1.778405\n",
      "WHidden4  0.607457 -1.741555 -1.268290\n"
     ]
    },
    {
     "data": {
      "text/plain": [
       "['mlp_model.sav']"
      ]
     },
     "execution_count": 115,
     "metadata": {},
     "output_type": "execute_result"
    }
   ],
   "source": [
    "#Train Model\n",
    "clf = MyMLP(4, 4)\n",
    "clf.fit(X_iris.values, y_iris.values, epoch_limit=100)\n",
    "\n",
    "#show weights\n",
    "clf.print_w_ItoH()\n",
    "clf.print_w_HtoO()\n",
    "\n",
    "#Save model\n",
    "filename = 'mlp_model.sav'\n",
    "joblib.dump(clf, filename)"
   ]
  },
  {
   "cell_type": "markdown",
   "metadata": {},
   "source": [
    "#### E.2.B. Import MLP"
   ]
  },
  {
   "cell_type": "code",
   "execution_count": 116,
   "metadata": {},
   "outputs": [
    {
     "name": "stdout",
     "output_type": "stream",
     "text": [
      "          Hidden0   Hidden1   Hidden2   Hidden3\n",
      "WInput0 -4.655383 -0.768451  0.759309  0.797660\n",
      "WInput1 -4.178536 -1.833589  0.964477  0.329022\n",
      "WInput2  6.646115  3.209918 -0.049183  0.707252\n",
      "WInput3  4.789148  1.137971  0.541495  0.036774\n",
      "WInput4 -1.398108  0.283681 -0.015717 -0.727474\n",
      "           Output0   Output1   Output2\n",
      "WHidden0 -2.687694 -4.996019  5.539504\n",
      "WHidden1 -5.530517  5.206091  1.140628\n",
      "WHidden2  2.085549  0.139709 -1.035228\n",
      "WHidden3  0.113448 -1.054427 -1.778405\n",
      "WHidden4  0.607457 -1.741555 -1.268290\n"
     ]
    }
   ],
   "source": [
    "loaded_clf = joblib.load(filename)\n",
    "loaded_clf.print_w_ItoH()\n",
    "loaded_clf.print_w_HtoO()"
   ]
  },
  {
   "cell_type": "markdown",
   "metadata": {},
   "source": [
    "Karena weight sama persis, export dan import model telah berhasil "
   ]
  },
  {
   "cell_type": "markdown",
   "metadata": {},
   "source": [
    "## F. Klasifikasi Instance Baru"
   ]
  },
  {
   "cell_type": "markdown",
   "metadata": {},
   "source": [
    "### F.1. Dengan C4.5"
   ]
  },
  {
   "cell_type": "code",
   "execution_count": null,
   "metadata": {},
   "outputs": [],
   "source": []
  },
  {
   "cell_type": "markdown",
   "metadata": {},
   "source": [
    "### F.2. Dengan MLP"
   ]
  },
  {
   "cell_type": "code",
   "execution_count": 127,
   "metadata": {},
   "outputs": [
    {
     "name": "stdout",
     "output_type": "stream",
     "text": [
      "Hasil Kelas Prediksi: 2\n"
     ]
    }
   ],
   "source": [
    "instance_pred = loaded_clf.predict(np.array([[5.5, 4.2, 5.7, 1.5]]))\n",
    "print(\"Hasil Kelas Prediksi:\", int(instance_pred[0]))"
   ]
  }
 ],
 "metadata": {
  "kernelspec": {
   "display_name": "Python 3",
   "language": "python",
   "name": "python3"
  },
  "language_info": {
   "codemirror_mode": {
    "name": "ipython",
    "version": 3
   },
   "file_extension": ".py",
   "mimetype": "text/x-python",
   "name": "python",
   "nbconvert_exporter": "python",
   "pygments_lexer": "ipython3",
   "version": "3.7.3"
  }
 },
 "nbformat": 4,
 "nbformat_minor": 2
}
