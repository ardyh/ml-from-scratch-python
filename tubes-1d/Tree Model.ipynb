{
 "cells": [
  {
   "cell_type": "code",
   "execution_count": 3,
   "metadata": {},
   "outputs": [],
   "source": [
    "import os\n",
    "import sys\n",
    "sys.path.insert(0, os.path.abspath('./dtl'))\n",
    "from sklearn.datasets import load_iris\n",
    "import pandas as pd\n",
    "import numpy as np\n",
    "import math\n",
    "from node import Node\n",
    "from myC45 import Tree as tree_myC45\n",
    "from myID3 import Tree as tree_myID3"
   ]
  },
  {
   "cell_type": "code",
   "execution_count": 4,
   "metadata": {},
   "outputs": [
    {
     "name": "stdout",
     "output_type": "stream",
     "text": [
      "Data Tennis\n",
      "  day   outlook  temp humidity    wind play\n",
      "0  D1     Sunny   Hot     High    Weak   No\n",
      "1  D2     Sunny   Hot     High  Strong   No\n",
      "2  D3  Overcast   Hot     High    Weak  Yes\n",
      "3  D4      Rain  Mild     High    Weak  Yes\n",
      "4  D5      Rain  Cool   Normal    Weak  Yes\n",
      "-------tree-------\n",
      "outlook\n",
      "|--(Sunny)-->humidity\n",
      "|            |--(High)-->{class : No}\n",
      "|            |--(Normal)-->{class : Yes}\n",
      "|--(Overcast)-->{class : Yes}\n",
      "|--(Rain)-->wind\n",
      "|            |--(Weak)-->{class : Yes}\n",
      "|            |--(Strong)-->{class : No}\n"
     ]
    }
   ],
   "source": [
    "# read data tennis\n",
    "print('Data Tennis')\n",
    "data_tennis = pd.read_csv(\"./data/play_tennis.csv\")\n",
    "print(data_tennis.head())\n",
    "\n",
    "#make tennis tree\n",
    "data_tennis = data_tennis.drop('day', axis=1)\n",
    "tree_tennis = tree_myID3(data_tennis, 'play', use_info_gain=True)\n",
    "root_tennis = tree_tennis.make_tree()\n",
    "tree_tennis.print_tree(root_tennis, 0, 2)"
   ]
  },
  {
   "cell_type": "code",
   "execution_count": 5,
   "metadata": {},
   "outputs": [
    {
     "name": "stdout",
     "output_type": "stream",
     "text": [
      "   sepal_length  sepal_width  petal_length  petal_width  label\n",
      "0           5.1          3.5           1.4          0.2      0\n",
      "1           4.9          3.0           1.4          0.2      0\n",
      "2           4.7          3.2           1.3          0.2      0\n",
      "3           4.6          3.1           1.5          0.2      0\n",
      "4           5.0          3.6           1.4          0.2      0\n",
      "-------tree-------\n",
      "petal_length\n",
      "|--(<=2.45)-->{class : 0}\n",
      "|--(>2.45)-->petal_width\n",
      "|            |--(<=1.7)-->sepal_length\n",
      "|            |            |--(<=7.1)-->sepal_width\n",
      "|            |            |            |--(<=2.8)-->{class : 1}\n",
      "|            |            |            |--(>2.8)-->{class : 1}\n",
      "|            |            |--(>7.1)-->{class : 2}\n",
      "|            |--(>1.7)-->sepal_length\n",
      "|            |            |--(<=5.9)-->sepal_width\n",
      "|            |            |            |--(<=3.1)-->{class : 2}\n",
      "|            |            |            |--(>3.1)-->{class : 1}\n",
      "|            |            |--(>5.9)-->{class : 2}\n"
     ]
    }
   ],
   "source": [
    "#read data iris\n",
    "load, target = load_iris(return_X_y=True)\n",
    "iris_data = pd.DataFrame(load, columns=['sepal_length', 'sepal_width', 'petal_length', 'petal_width'])\n",
    "iris_data['label'] = pd.Series(target)\n",
    "print(iris_data.head())\n",
    "\n",
    "#make iris tree\n",
    "tree_iris = tree_myC45(iris_data, 'label')\n",
    "root_iris = tree_iris.make_tree()\n",
    "tree_iris.print_tree(root_iris, 0, 2)"
   ]
  },
  {
   "cell_type": "code",
   "execution_count": 6,
   "metadata": {},
   "outputs": [],
   "source": [
    "def export_tree_myID3(node, depth, space, array):\n",
    "    if (depth == 0):\n",
    "        dash = ''\n",
    "    else:\n",
    "        dash = ('--'*space)*depth + '>' + node.parent_value + ' '\n",
    "        \n",
    "    if(node.is_leaf):\n",
    "        output = dash + '{' + str(node.leaf_value) + '}'\n",
    "    else:\n",
    "        output = dash + '[' + node.split_attr + ']' \n",
    "    \n",
    "    # print(output)\n",
    "    array.append(output)\n",
    "    \n",
    "    depth += 1\n",
    "    for child in node.childs:\n",
    "        export_tree_myID3(child, depth, space, array)"
   ]
  },
  {
   "cell_type": "code",
   "execution_count": 7,
   "metadata": {},
   "outputs": [],
   "source": [
    "def export_tree_C45(node, depth, space, array):\n",
    "    if (depth == 0):\n",
    "        dash = ''\n",
    "    else:\n",
    "        dash = ('--'*space)*depth + node.parent_value + ' '\n",
    "        \n",
    "    if(node.is_leaf):\n",
    "        output = dash + '{' + str(node.leaf_value) + '}'\n",
    "    else:\n",
    "        output = dash + '[' + node.split_attr + ']' \n",
    "    \n",
    "    # print(output)\n",
    "    array.append(output)\n",
    "    \n",
    "    depth += 1\n",
    "    for child in node.childs:\n",
    "        export_tree_C45(child, depth, space, array)"
   ]
  },
  {
   "cell_type": "code",
   "execution_count": 8,
   "metadata": {},
   "outputs": [],
   "source": [
    "# export file for ID3 tree\n",
    "model_ID3 = []\n",
    "export_tree_myID3(root_tennis, 0, 2, model_ID3)\n",
    "text_file = open(\"tree_ID3.txt\", \"w\")\n",
    "for L in model_ID3:\n",
    "    text_file.write(L+\"\\n\")\n",
    "text_file.close()"
   ]
  },
  {
   "cell_type": "code",
   "execution_count": 9,
   "metadata": {},
   "outputs": [],
   "source": [
    "# export file for C45 tree\n",
    "model_C45 = []\n",
    "export_tree_C45(root_iris, 0, 2, model_C45)\n",
    "text_file2 = open(\"tree_C45.txt\", \"w\")\n",
    "for L in model_C45:\n",
    "    text_file2.write(L+\"\\n\")\n",
    "text_file2.close()"
   ]
  },
  {
   "cell_type": "code",
   "execution_count": 16,
   "metadata": {},
   "outputs": [],
   "source": [
    "def importID3Model(path,data,target_attr):\n",
    "    f = open(path,\"r\")\n",
    "    lines = f.readlines()\n",
    "\n",
    "    root_split_attr = ''.join((filter(lambda x: x not in ['[', ']','\\n'], lines.pop(0))))\n",
    "    root = Node(data,root_split_attr,target_attr)\n",
    "    tree = tree_myID3(data,target_attr,root_value=root)\n",
    "    print(root_split_attr)\n",
    "\n",
    "    i_last=0\n",
    "    spaces = []\n",
    "    spaces.append(lines[0].count('-'))\n",
    "    for line in lines:\n",
    "        if (line.count('-')==spaces[i_last]):\n",
    "            pass #do nothing  \n",
    "        elif (line.count('-')>spaces[i_last]):\n",
    "            spaces.append(line.count('-'))\n",
    "            i_last += 1\n",
    "        else: #kecil\n",
    "            break\n",
    "    print(spaces)\n",
    "\n",
    "    i = 0\n",
    "    curSpace = lines[0].count('-')\n",
    "    curRoot = root\n",
    "    prevRoot = root\n",
    "    for line in lines:\n",
    "        pre_str = ''.join((filter(lambda x: x not in ['-', '>','\\n'], line)))\n",
    "        pre_str = pre_str.split(' ')\n",
    "        parent_value = pre_str[0]\n",
    "        print(parent_value)\n",
    "        split_or_leaf = pre_str[1]\n",
    "        print(split_or_leaf)\n",
    "        #split\n",
    "        if(split_or_leaf[0]=='['):\n",
    "            split = ''.join((filter(lambda x: x not in ['[', ']'], split_or_leaf)))\n",
    "            child = Node(data,split,target_attr,parent_value=parent_value)\n",
    "            print(\"split : \"+split)\n",
    "        #leaf\n",
    "        elif(split_or_leaf[0]=='{'):\n",
    "            leaf = ''.join((filter(lambda x: x not in ['{', '}'], split_or_leaf)))\n",
    "            child = Node(data,'',target_attr,parent_value=parent_value,is_leaf=True,leaf_value=leaf);\n",
    "            print(\"leaf : \"+ leaf)\n",
    "        #case add child\n",
    "        if (line.count('-') == spaces[0]):\n",
    "            root.add_child(child)\n",
    "            prevRoot = child\n",
    "            curRoot = child\n",
    "            i = 0\n",
    "        elif (line.count('-') > spaces[i]):\n",
    "            curRoot.add_child(child)\n",
    "            curRoot = child\n",
    "        elif (line.count('-') == spaces[i]):\n",
    "            prevRoot.add_child(child)\n",
    "    return tree;"
   ]
  },
  {
   "cell_type": "code",
   "execution_count": 17,
   "metadata": {},
   "outputs": [
    {
     "name": "stdout",
     "output_type": "stream",
     "text": [
      "outlook\n",
      "[4, 8]\n",
      "Sunny\n",
      "[humidity]\n"
     ]
    },
    {
     "ename": "NameError",
     "evalue": "name 'node' is not defined",
     "output_type": "error",
     "traceback": [
      "\u001b[1;31m---------------------------------------------------------------------------\u001b[0m",
      "\u001b[1;31mNameError\u001b[0m                                 Traceback (most recent call last)",
      "\u001b[1;32m<ipython-input-17-cd06c78ed740>\u001b[0m in \u001b[0;36m<module>\u001b[1;34m\u001b[0m\n\u001b[1;32m----> 1\u001b[1;33m \u001b[0mID3_tree\u001b[0m \u001b[1;33m=\u001b[0m \u001b[0mimportID3Model\u001b[0m\u001b[1;33m(\u001b[0m\u001b[1;34m\"tree_ID3.txt\"\u001b[0m\u001b[1;33m,\u001b[0m \u001b[0mdata_tennis\u001b[0m\u001b[1;33m,\u001b[0m \u001b[1;34m\"play\"\u001b[0m\u001b[1;33m)\u001b[0m\u001b[1;33m\u001b[0m\u001b[1;33m\u001b[0m\u001b[0m\n\u001b[0m\u001b[0;32m      2\u001b[0m \u001b[0mID3_tree\u001b[0m\u001b[1;33m.\u001b[0m\u001b[0mprint_tree\u001b[0m\u001b[1;33m\u001b[0m\u001b[1;33m\u001b[0m\u001b[0m\n",
      "\u001b[1;32m<ipython-input-16-50b31d32ee0d>\u001b[0m in \u001b[0;36mimportID3Model\u001b[1;34m(path, data, target_attr)\u001b[0m\n\u001b[0;32m     35\u001b[0m         \u001b[1;32mif\u001b[0m\u001b[1;33m(\u001b[0m\u001b[0msplit_or_leaf\u001b[0m\u001b[1;33m[\u001b[0m\u001b[1;36m0\u001b[0m\u001b[1;33m]\u001b[0m\u001b[1;33m==\u001b[0m\u001b[1;34m'['\u001b[0m\u001b[1;33m)\u001b[0m\u001b[1;33m:\u001b[0m\u001b[1;33m\u001b[0m\u001b[1;33m\u001b[0m\u001b[0m\n\u001b[0;32m     36\u001b[0m             \u001b[0msplit\u001b[0m \u001b[1;33m=\u001b[0m \u001b[1;34m''\u001b[0m\u001b[1;33m.\u001b[0m\u001b[0mjoin\u001b[0m\u001b[1;33m(\u001b[0m\u001b[1;33m(\u001b[0m\u001b[0mfilter\u001b[0m\u001b[1;33m(\u001b[0m\u001b[1;32mlambda\u001b[0m \u001b[0mx\u001b[0m\u001b[1;33m:\u001b[0m \u001b[0mx\u001b[0m \u001b[1;32mnot\u001b[0m \u001b[1;32min\u001b[0m \u001b[1;33m[\u001b[0m\u001b[1;34m'['\u001b[0m\u001b[1;33m,\u001b[0m \u001b[1;34m']'\u001b[0m\u001b[1;33m]\u001b[0m\u001b[1;33m,\u001b[0m \u001b[0msplit_or_leaf\u001b[0m\u001b[1;33m)\u001b[0m\u001b[1;33m)\u001b[0m\u001b[1;33m)\u001b[0m\u001b[1;33m\u001b[0m\u001b[1;33m\u001b[0m\u001b[0m\n\u001b[1;32m---> 37\u001b[1;33m             \u001b[0mchild\u001b[0m \u001b[1;33m=\u001b[0m \u001b[0mnode\u001b[0m\u001b[1;33m.\u001b[0m\u001b[0mNode\u001b[0m\u001b[1;33m(\u001b[0m\u001b[0mdata\u001b[0m\u001b[1;33m,\u001b[0m\u001b[0msplit\u001b[0m\u001b[1;33m,\u001b[0m\u001b[0mtarget_attr\u001b[0m\u001b[1;33m,\u001b[0m\u001b[0mparent_value\u001b[0m\u001b[1;33m=\u001b[0m\u001b[0mparent_value\u001b[0m\u001b[1;33m)\u001b[0m\u001b[1;33m\u001b[0m\u001b[1;33m\u001b[0m\u001b[0m\n\u001b[0m\u001b[0;32m     38\u001b[0m             \u001b[0mprint\u001b[0m\u001b[1;33m(\u001b[0m\u001b[1;34m\"split : \"\u001b[0m\u001b[1;33m+\u001b[0m\u001b[0msplit\u001b[0m\u001b[1;33m)\u001b[0m\u001b[1;33m\u001b[0m\u001b[1;33m\u001b[0m\u001b[0m\n\u001b[0;32m     39\u001b[0m         \u001b[1;31m#leaf\u001b[0m\u001b[1;33m\u001b[0m\u001b[1;33m\u001b[0m\u001b[1;33m\u001b[0m\u001b[0m\n",
      "\u001b[1;31mNameError\u001b[0m: name 'node' is not defined"
     ]
    }
   ],
   "source": [
    "ID3_tree = importID3Model(\"tree_ID3.txt\", data_tennis, \"play\")\n",
    "ID3_tree.print_tree"
   ]
  }
 ],
 "metadata": {
  "kernelspec": {
   "display_name": "Python 3",
   "language": "python",
   "name": "python3"
  },
  "language_info": {
   "codemirror_mode": {
    "name": "ipython",
    "version": 3
   },
   "file_extension": ".py",
   "mimetype": "text/x-python",
   "name": "python",
   "nbconvert_exporter": "python",
   "pygments_lexer": "ipython3",
   "version": "3.7.4"
  }
 },
 "nbformat": 4,
 "nbformat_minor": 2
}
