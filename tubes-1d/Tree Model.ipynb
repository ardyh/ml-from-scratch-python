{
 "cells": [
  {
   "cell_type": "code",
   "execution_count": 1,
   "metadata": {},
   "outputs": [],
   "source": [
    "import os\n",
    "import sys\n",
    "sys.path.insert(0, os.path.abspath('./dtl'))\n",
    "from sklearn.datasets import load_iris\n",
    "import pandas as pd\n",
    "import numpy as np\n",
    "import math\n",
    "from node import Node\n",
    "from myC45 import Tree as tree_myC45\n",
    "from myID3 import Tree as tree_myID3"
   ]
  },
  {
   "cell_type": "code",
   "execution_count": 2,
   "metadata": {},
   "outputs": [
    {
     "name": "stdout",
     "output_type": "stream",
     "text": [
      "Data Tennis\n",
      "  day   outlook  temp humidity    wind play\n",
      "0  D1     Sunny   Hot     High    Weak   No\n",
      "1  D2     Sunny   Hot     High  Strong   No\n",
      "2  D3  Overcast   Hot     High    Weak  Yes\n",
      "3  D4      Rain  Mild     High    Weak  Yes\n",
      "4  D5      Rain  Cool   Normal    Weak  Yes\n",
      "-------tree-------\n",
      "outlook\n",
      "|--(Sunny)-->humidity\n",
      "|            |--(High)-->{class : No}\n",
      "|            |--(Normal)-->{class : Yes}\n",
      "|--(Overcast)-->{class : Yes}\n",
      "|--(Rain)-->wind\n",
      "|            |--(Weak)-->{class : Yes}\n",
      "|            |--(Strong)-->{class : No}\n"
     ]
    }
   ],
   "source": [
    "# read data tennis\n",
    "print('Data Tennis')\n",
    "data_tennis = pd.read_csv(\"./data/play_tennis.csv\")\n",
    "print(data_tennis.head())\n",
    "\n",
    "#make tennis tree\n",
    "data_tennis = data_tennis.drop('day', axis=1)\n",
    "tree_tennis = tree_myID3(data_tennis, 'play', use_info_gain=True)\n",
    "root_tennis = tree_tennis.make_tree()\n",
    "tree_tennis.print_tree(root_tennis, 0, 2)"
   ]
  },
  {
   "cell_type": "code",
   "execution_count": 3,
   "metadata": {},
   "outputs": [
    {
     "name": "stdout",
     "output_type": "stream",
     "text": [
      "   sepal_length  sepal_width  petal_length  petal_width  label\n",
      "0           5.1          3.5           1.4          0.2      0\n",
      "1           4.9          3.0           1.4          0.2      0\n",
      "2           4.7          3.2           1.3          0.2      0\n",
      "3           4.6          3.1           1.5          0.2      0\n",
      "4           5.0          3.6           1.4          0.2      0\n",
      "-------tree-------\n",
      "petal_length\n",
      "|--(<=2.45)-->{class : 0}\n",
      "|--(>2.45)-->petal_width\n",
      "|            |--(<=1.7)-->sepal_length\n",
      "|            |            |--(<=7.1)-->sepal_width\n",
      "|            |            |            |--(<=2.8)-->{class : 1}\n",
      "|            |            |            |--(>2.8)-->{class : 1}\n",
      "|            |            |--(>7.1)-->{class : 2}\n",
      "|            |--(>1.7)-->sepal_length\n",
      "|            |            |--(<=5.9)-->sepal_width\n",
      "|            |            |            |--(<=3.1)-->{class : 2}\n",
      "|            |            |            |--(>3.1)-->{class : 1}\n",
      "|            |            |--(>5.9)-->{class : 2}\n"
     ]
    }
   ],
   "source": [
    "#read data iris\n",
    "load, target = load_iris(return_X_y=True)\n",
    "iris_data = pd.DataFrame(load, columns=['sepal_length', 'sepal_width', 'petal_length', 'petal_width'])\n",
    "iris_data['label'] = pd.Series(target)\n",
    "print(iris_data.head())\n",
    "\n",
    "#make iris tree\n",
    "tree_iris = tree_myC45(iris_data, 'label')\n",
    "root_iris = tree_iris.make_tree()\n",
    "tree_iris.print_tree(root_iris, 0, 2)"
   ]
  },
  {
   "cell_type": "code",
   "execution_count": 26,
   "metadata": {},
   "outputs": [],
   "source": [
    "def get_model_myID3(node, depth, space, array):\n",
    "    if (depth == 0):\n",
    "        dash = ''\n",
    "    else:\n",
    "        dash = ('--'*space)*depth + '>' + node.parent_value + ' '\n",
    "        \n",
    "    if(node.is_leaf):\n",
    "        output = dash + '{' + str(node.leaf_value) + '}'\n",
    "    else:\n",
    "        output = dash + '[' + node.split_attr + ']' \n",
    "    \n",
    "    # print(output)\n",
    "    array.append(output)\n",
    "    \n",
    "    depth += 1\n",
    "    for child in node.childs:\n",
    "        get_model_myID3(child, depth, space, array)"
   ]
  },
  {
   "cell_type": "code",
   "execution_count": 27,
   "metadata": {},
   "outputs": [],
   "source": [
    "def get_model_myC45(node, depth, space, array):\n",
    "    if (depth == 0):\n",
    "        dash = ''\n",
    "    else:\n",
    "        dash = ('--'*space)*depth + node.parent_value + ' '\n",
    "        \n",
    "    if(node.is_leaf):\n",
    "        output = dash + '{' + str(node.leaf_value) + '}'\n",
    "    else:\n",
    "        output = dash + '[' + node.split_attr + ']' \n",
    "    \n",
    "    # print(output)\n",
    "    array.append(output)\n",
    "    \n",
    "    depth += 1\n",
    "    for child in node.childs:\n",
    "        get_model_myC45(child, depth, space, array)"
   ]
  },
  {
   "cell_type": "code",
   "execution_count": 34,
   "metadata": {},
   "outputs": [],
   "source": [
    "# export file\n",
    "def export_tree(filename, tipe):\n",
    "    model = []\n",
    "    if(tipe==\"ID3\"):\n",
    "        get_model_myID3(root_tennis, 0, 2, model)\n",
    "    elif (tipe==\"C45\"):\n",
    "        get_model_myC45(root_iris, 0, 2, model)\n",
    "        \n",
    "    text_file = open(filename, \"w\")\n",
    "    for L in model:\n",
    "        text_file.write(L+\"\\n\")\n",
    "    text_file.close()"
   ]
  },
  {
   "cell_type": "code",
   "execution_count": 35,
   "metadata": {},
   "outputs": [],
   "source": [
    "#exporting file\n",
    "export_tree(\"tree_ID3.txt\", \"ID3\")\n",
    "export_tree(\"tree_C45.txt\", \"C45\")"
   ]
  },
  {
   "cell_type": "code",
   "execution_count": null,
   "metadata": {},
   "outputs": [],
   "source": []
  }
 ],
 "metadata": {
  "kernelspec": {
   "display_name": "Python 3",
   "language": "python",
   "name": "python3"
  },
  "language_info": {
   "codemirror_mode": {
    "name": "ipython",
    "version": 2
   },
   "file_extension": ".py",
   "mimetype": "text/x-python",
   "name": "python",
   "nbconvert_exporter": "python",
   "pygments_lexer": "ipython2",
   "version": "2.7.17"
  }
 },
 "nbformat": 4,
 "nbformat_minor": 2
}
