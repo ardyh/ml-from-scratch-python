{
 "cells": [
  {
   "cell_type": "code",
   "execution_count": 1,
   "metadata": {},
   "outputs": [],
   "source": [
    "import pandas as pd\n",
    "import numpy as np\n",
    "\n",
    "from random import seed\n",
    "from random import random\n",
    "from math import exp"
   ]
  },
  {
   "cell_type": "code",
   "execution_count": 2,
   "metadata": {},
   "outputs": [
    {
     "name": "stdout",
     "output_type": "stream",
     "text": [
      "0.9635454822068791\n"
     ]
    }
   ],
   "source": [
    "from random import seed\n",
    "from random import random\n",
    "from math import exp\n",
    "\n",
    "class Network:\n",
    "  #konstruktor\n",
    "  def __init__(self, n_inputs, n_hidden, n_outputs):\n",
    "    self.n_inputs = n_inputs\n",
    "    self.n_hidden = n_hidden\n",
    "    self.n_outputs = n_outputs\n",
    "    self.input_weight_hidden = list()\n",
    "    self.output_weight_hidden = list()\n",
    "\n",
    "  # Initialize a network\n",
    "  def initialize_network(self):\n",
    "    seed(1)\n",
    "    self.input_weight_hidden = [[random() for i in range(self.n_inputs+1)] for j in range(self.n_hidden)]\n",
    "    self.output_weight_hidden = [[random() for i in range(self.n_hidden+1)] for j in range(self.n_outputs)]\n",
    "  \n",
    "  # Calculate net for an input\n",
    "  def calculate_net(self, weights, inputs):\n",
    "    net = 0\n",
    "    for i in range(len(weights)):\n",
    "      net += weights[i] * inputs[i]\n",
    "    return net\n",
    "\n",
    "  # Neuron activation\n",
    "  def activate(self, weights, inputs):\n",
    "  \treturn 1.0 / (1.0 + exp(-1*self.calculate_net(weights, inputs)))\n",
    "\n",
    "# Testing\n",
    "net = Network(3,3,3)\n",
    "net.initialize_network()\n",
    "# print(net.input_weight_hidden[0])\n",
    "inputs = [1,1,2,3]  # element [0] is bias\n",
    "print(net.activate(net.input_weight_hidden[0], inputs))"
   ]
  },
  {
   "cell_type": "code",
   "execution_count": null,
   "metadata": {},
   "outputs": [],
   "source": []
  }
 ],
 "metadata": {
  "kernelspec": {
   "display_name": "Python 3",
   "language": "python",
   "name": "python3"
  },
  "language_info": {
   "codemirror_mode": {
    "name": "ipython",
    "version": 3
   },
   "file_extension": ".py",
   "mimetype": "text/x-python",
   "name": "python",
   "nbconvert_exporter": "python",
   "pygments_lexer": "ipython3",
   "version": "3.7.3"
  }
 },
 "nbformat": 4,
 "nbformat_minor": 2
}
