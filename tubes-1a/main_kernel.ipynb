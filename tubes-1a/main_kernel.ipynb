{
 "cells": [
  {
   "cell_type": "markdown",
   "metadata": {},
   "source": [
    "# Tubes 1A Pembelajaran Mesin\n",
    "## Eksplorasi Variasi Algoritma _Decision Tree Learning_\n",
    "\n",
    "#### Anggota Kelompok\n",
    "1. Ahmad Mutawalli - 13517026, K02\n",
    "2. Harry Rahmadi Munly - 13517033, K03\n",
    "3. Ardysatrio Fakhri Haroen - 13517062, K02\n",
    "4. Dandi Agus Maulana - 13517077, K02"
   ]
  },
  {
   "cell_type": "code",
   "execution_count": 36,
   "metadata": {},
   "outputs": [],
   "source": [
    "#load utility libraries\n",
    "from sklearn.datasets import load_iris\n",
    "import pandas as pd\n",
    "from sklearn.tree import export_text as et_dtl\n",
    "from id3 import export_text as et_id3\n",
    "from sklearn.preprocessing import LabelEncoder\n",
    "\n",
    "#load ML libraries\n",
    "from id3 import Id3Estimator\n",
    "from sklearn.tree import DecisionTreeClassifier"
   ]
  },
  {
   "cell_type": "markdown",
   "metadata": {},
   "source": [
    "## Membaca Data"
   ]
  },
  {
   "cell_type": "code",
   "execution_count": 25,
   "metadata": {},
   "outputs": [],
   "source": [
    "#read iris data\n",
    "data, target = load_iris(return_X_y=True)\n",
    "iris_data = pd.DataFrame(data, columns=['sepal_length', 'sepal_width', 'petal_length', 'petal_width'])\n",
    "iris_data['label'] = pd.Series(target)\n",
    "\n",
    "#read play-tennis data\n",
    "tennis_data = pd.read_csv(\"data/play_tennis.csv\")\n",
    "tennis_data.drop('day', axis=1, inplace=True)"
   ]
  },
  {
   "cell_type": "code",
   "execution_count": 3,
   "metadata": {},
   "outputs": [
    {
     "data": {
      "text/html": [
       "<div>\n",
       "<style scoped>\n",
       "    .dataframe tbody tr th:only-of-type {\n",
       "        vertical-align: middle;\n",
       "    }\n",
       "\n",
       "    .dataframe tbody tr th {\n",
       "        vertical-align: top;\n",
       "    }\n",
       "\n",
       "    .dataframe thead th {\n",
       "        text-align: right;\n",
       "    }\n",
       "</style>\n",
       "<table border=\"1\" class=\"dataframe\">\n",
       "  <thead>\n",
       "    <tr style=\"text-align: right;\">\n",
       "      <th></th>\n",
       "      <th>outlook</th>\n",
       "      <th>temp</th>\n",
       "      <th>humidity</th>\n",
       "      <th>wind</th>\n",
       "      <th>play</th>\n",
       "    </tr>\n",
       "  </thead>\n",
       "  <tbody>\n",
       "    <tr>\n",
       "      <th>0</th>\n",
       "      <td>Sunny</td>\n",
       "      <td>Hot</td>\n",
       "      <td>High</td>\n",
       "      <td>Weak</td>\n",
       "      <td>No</td>\n",
       "    </tr>\n",
       "    <tr>\n",
       "      <th>1</th>\n",
       "      <td>Sunny</td>\n",
       "      <td>Hot</td>\n",
       "      <td>High</td>\n",
       "      <td>Strong</td>\n",
       "      <td>No</td>\n",
       "    </tr>\n",
       "    <tr>\n",
       "      <th>2</th>\n",
       "      <td>Overcast</td>\n",
       "      <td>Hot</td>\n",
       "      <td>High</td>\n",
       "      <td>Weak</td>\n",
       "      <td>Yes</td>\n",
       "    </tr>\n",
       "    <tr>\n",
       "      <th>3</th>\n",
       "      <td>Rain</td>\n",
       "      <td>Mild</td>\n",
       "      <td>High</td>\n",
       "      <td>Weak</td>\n",
       "      <td>Yes</td>\n",
       "    </tr>\n",
       "    <tr>\n",
       "      <th>4</th>\n",
       "      <td>Rain</td>\n",
       "      <td>Cool</td>\n",
       "      <td>Normal</td>\n",
       "      <td>Weak</td>\n",
       "      <td>Yes</td>\n",
       "    </tr>\n",
       "  </tbody>\n",
       "</table>\n",
       "</div>"
      ],
      "text/plain": [
       "    outlook  temp humidity    wind play\n",
       "0     Sunny   Hot     High    Weak   No\n",
       "1     Sunny   Hot     High  Strong   No\n",
       "2  Overcast   Hot     High    Weak  Yes\n",
       "3      Rain  Mild     High    Weak  Yes\n",
       "4      Rain  Cool   Normal    Weak  Yes"
      ]
     },
     "execution_count": 3,
     "metadata": {},
     "output_type": "execute_result"
    }
   ],
   "source": [
    "#overview tennis data\n",
    "tennis_data.head()"
   ]
  },
  {
   "cell_type": "code",
   "execution_count": 28,
   "metadata": {},
   "outputs": [
    {
     "data": {
      "text/html": [
       "<div>\n",
       "<style scoped>\n",
       "    .dataframe tbody tr th:only-of-type {\n",
       "        vertical-align: middle;\n",
       "    }\n",
       "\n",
       "    .dataframe tbody tr th {\n",
       "        vertical-align: top;\n",
       "    }\n",
       "\n",
       "    .dataframe thead th {\n",
       "        text-align: right;\n",
       "    }\n",
       "</style>\n",
       "<table border=\"1\" class=\"dataframe\">\n",
       "  <thead>\n",
       "    <tr style=\"text-align: right;\">\n",
       "      <th></th>\n",
       "      <th>outlook</th>\n",
       "      <th>temp</th>\n",
       "      <th>humidity</th>\n",
       "      <th>wind</th>\n",
       "      <th>play</th>\n",
       "    </tr>\n",
       "  </thead>\n",
       "  <tbody>\n",
       "    <tr>\n",
       "      <th>0</th>\n",
       "      <td>2</td>\n",
       "      <td>1</td>\n",
       "      <td>0</td>\n",
       "      <td>1</td>\n",
       "      <td>0</td>\n",
       "    </tr>\n",
       "    <tr>\n",
       "      <th>1</th>\n",
       "      <td>2</td>\n",
       "      <td>1</td>\n",
       "      <td>0</td>\n",
       "      <td>0</td>\n",
       "      <td>0</td>\n",
       "    </tr>\n",
       "    <tr>\n",
       "      <th>2</th>\n",
       "      <td>0</td>\n",
       "      <td>1</td>\n",
       "      <td>0</td>\n",
       "      <td>1</td>\n",
       "      <td>1</td>\n",
       "    </tr>\n",
       "    <tr>\n",
       "      <th>3</th>\n",
       "      <td>1</td>\n",
       "      <td>2</td>\n",
       "      <td>0</td>\n",
       "      <td>1</td>\n",
       "      <td>1</td>\n",
       "    </tr>\n",
       "    <tr>\n",
       "      <th>4</th>\n",
       "      <td>1</td>\n",
       "      <td>0</td>\n",
       "      <td>1</td>\n",
       "      <td>1</td>\n",
       "      <td>1</td>\n",
       "    </tr>\n",
       "  </tbody>\n",
       "</table>\n",
       "</div>"
      ],
      "text/plain": [
       "   outlook  temp  humidity  wind  play\n",
       "0        2     1         0     1     0\n",
       "1        2     1         0     0     0\n",
       "2        0     1         0     1     1\n",
       "3        1     2         0     1     1\n",
       "4        1     0         1     1     1"
      ]
     },
     "execution_count": 28,
     "metadata": {},
     "output_type": "execute_result"
    }
   ],
   "source": [
    "#label-encode tennis data\n",
    "encoder = LabelEncoder()\n",
    "tennis_data = tennis_data.apply(encoder.fit_transform)\n",
    "tennis_data.head()"
   ]
  },
  {
   "cell_type": "code",
   "execution_count": 5,
   "metadata": {},
   "outputs": [
    {
     "data": {
      "text/html": [
       "<div>\n",
       "<style scoped>\n",
       "    .dataframe tbody tr th:only-of-type {\n",
       "        vertical-align: middle;\n",
       "    }\n",
       "\n",
       "    .dataframe tbody tr th {\n",
       "        vertical-align: top;\n",
       "    }\n",
       "\n",
       "    .dataframe thead th {\n",
       "        text-align: right;\n",
       "    }\n",
       "</style>\n",
       "<table border=\"1\" class=\"dataframe\">\n",
       "  <thead>\n",
       "    <tr style=\"text-align: right;\">\n",
       "      <th></th>\n",
       "      <th>sepal_length</th>\n",
       "      <th>sepal_width</th>\n",
       "      <th>petal_length</th>\n",
       "      <th>petal_width</th>\n",
       "      <th>label</th>\n",
       "    </tr>\n",
       "  </thead>\n",
       "  <tbody>\n",
       "    <tr>\n",
       "      <th>0</th>\n",
       "      <td>5.1</td>\n",
       "      <td>3.5</td>\n",
       "      <td>1.4</td>\n",
       "      <td>0.2</td>\n",
       "      <td>0</td>\n",
       "    </tr>\n",
       "    <tr>\n",
       "      <th>1</th>\n",
       "      <td>4.9</td>\n",
       "      <td>3.0</td>\n",
       "      <td>1.4</td>\n",
       "      <td>0.2</td>\n",
       "      <td>0</td>\n",
       "    </tr>\n",
       "    <tr>\n",
       "      <th>2</th>\n",
       "      <td>4.7</td>\n",
       "      <td>3.2</td>\n",
       "      <td>1.3</td>\n",
       "      <td>0.2</td>\n",
       "      <td>0</td>\n",
       "    </tr>\n",
       "    <tr>\n",
       "      <th>3</th>\n",
       "      <td>4.6</td>\n",
       "      <td>3.1</td>\n",
       "      <td>1.5</td>\n",
       "      <td>0.2</td>\n",
       "      <td>0</td>\n",
       "    </tr>\n",
       "    <tr>\n",
       "      <th>4</th>\n",
       "      <td>5.0</td>\n",
       "      <td>3.6</td>\n",
       "      <td>1.4</td>\n",
       "      <td>0.2</td>\n",
       "      <td>0</td>\n",
       "    </tr>\n",
       "  </tbody>\n",
       "</table>\n",
       "</div>"
      ],
      "text/plain": [
       "   sepal_length  sepal_width  petal_length  petal_width  label\n",
       "0           5.1          3.5           1.4          0.2      0\n",
       "1           4.9          3.0           1.4          0.2      0\n",
       "2           4.7          3.2           1.3          0.2      0\n",
       "3           4.6          3.1           1.5          0.2      0\n",
       "4           5.0          3.6           1.4          0.2      0"
      ]
     },
     "execution_count": 5,
     "metadata": {},
     "output_type": "execute_result"
    }
   ],
   "source": [
    "#overview iris data\n",
    "iris_data.head()"
   ]
  },
  {
   "cell_type": "markdown",
   "metadata": {},
   "source": [
    "## Fitting Data dengan Algoritma _Machine Learning_"
   ]
  },
  {
   "cell_type": "markdown",
   "metadata": {},
   "source": [
    "### 1. Iris Data"
   ]
  },
  {
   "cell_type": "code",
   "execution_count": null,
   "metadata": {},
   "outputs": [],
   "source": [
    "X_iris = iris_data.drop('label', axis=1)\n",
    "y_iris = iris_data['label']"
   ]
  },
  {
   "cell_type": "markdown",
   "metadata": {},
   "source": [
    "   - #### Fitting with ID3"
   ]
  },
  {
   "cell_type": "code",
   "execution_count": 23,
   "metadata": {},
   "outputs": [
    {
     "name": "stdout",
     "output_type": "stream",
     "text": [
      "\n",
      "petal_length <=2.45: 0 (50) \n",
      "petal_length >2.45\n",
      "|   petal_width <=1.75\n",
      "|   |   sepal_length <=7.10\n",
      "|   |   |   sepal_width <=2.85: 1 (27/4) \n",
      "|   |   |   sepal_width >2.85: 1 (22) \n",
      "|   |   sepal_length >7.10: 2 (1) \n",
      "|   petal_width >1.75\n",
      "|   |   sepal_length <=5.95\n",
      "|   |   |   sepal_width <=3.10: 2 (6) \n",
      "|   |   |   sepal_width >3.10: 1 (1) \n",
      "|   |   sepal_length >5.95: 2 (39) \n",
      "\n"
     ]
    }
   ],
   "source": [
    "id3 = Id3Estimator()\n",
    "id3_fit = id3.fit(X_iris, y_iris)\n",
    "tree_id3 = et_id3(id3_fit.tree_, feature_names=X_iris.columns.tolist())\n",
    "print(tree_id3)"
   ]
  },
  {
   "cell_type": "markdown",
   "metadata": {},
   "source": [
    "   - #### Fitting with DTL"
   ]
  },
  {
   "cell_type": "code",
   "execution_count": 38,
   "metadata": {},
   "outputs": [
    {
     "name": "stdout",
     "output_type": "stream",
     "text": [
      "|--- petal_length <= 2.45\n",
      "|   |--- class: 0\n",
      "|--- petal_length >  2.45\n",
      "|   |--- petal_width <= 1.75\n",
      "|   |   |--- petal_length <= 4.95\n",
      "|   |   |   |--- petal_width <= 1.65\n",
      "|   |   |   |   |--- class: 1\n",
      "|   |   |   |--- petal_width >  1.65\n",
      "|   |   |   |   |--- class: 2\n",
      "|   |   |--- petal_length >  4.95\n",
      "|   |   |   |--- petal_width <= 1.55\n",
      "|   |   |   |   |--- class: 2\n",
      "|   |   |   |--- petal_width >  1.55\n",
      "|   |   |   |   |--- sepal_length <= 6.95\n",
      "|   |   |   |   |   |--- class: 1\n",
      "|   |   |   |   |--- sepal_length >  6.95\n",
      "|   |   |   |   |   |--- class: 2\n",
      "|   |--- petal_width >  1.75\n",
      "|   |   |--- petal_length <= 4.85\n",
      "|   |   |   |--- sepal_length <= 5.95\n",
      "|   |   |   |   |--- class: 1\n",
      "|   |   |   |--- sepal_length >  5.95\n",
      "|   |   |   |   |--- class: 2\n",
      "|   |   |--- petal_length >  4.85\n",
      "|   |   |   |--- class: 2\n",
      "\n"
     ]
    }
   ],
   "source": [
    "dtl = DecisionTreeClassifier()\n",
    "dtl_fit = dtl.fit(X_iris, y_iris)\n",
    "tree_dtl = et_dtl(dtl_fit, feature_names=X_iris.columns.tolist())\n",
    "print(tree_dtl)"
   ]
  },
  {
   "cell_type": "markdown",
   "metadata": {},
   "source": [
    "### 2. Tennis Data"
   ]
  },
  {
   "cell_type": "code",
   "execution_count": 31,
   "metadata": {},
   "outputs": [],
   "source": [
    "X_tennis = tennis_data.drop('play', axis=1)\n",
    "y_tennis = tennis_data['play']"
   ]
  },
  {
   "cell_type": "markdown",
   "metadata": {},
   "source": [
    "   - #### Fitting with ID3"
   ]
  },
  {
   "cell_type": "code",
   "execution_count": 34,
   "metadata": {},
   "outputs": [
    {
     "name": "stdout",
     "output_type": "stream",
     "text": [
      "\n",
      "outlook <=0.50: 1 (4) \n",
      "outlook >0.50\n",
      "|   humidity <=0.50\n",
      "|   |   temp <=1.50: 0 (2) \n",
      "|   |   temp >1.50\n",
      "|   |   |   wind <=0.50: 0 (1) \n",
      "|   |   |   wind >0.50: 0 (1/1) \n",
      "|   humidity >0.50\n",
      "|   |   wind <=0.50\n",
      "|   |   |   temp <=1.00: 0 (1) \n",
      "|   |   |   temp >1.00: 1 (1) \n",
      "|   |   wind >0.50: 1 (3) \n",
      "\n"
     ]
    }
   ],
   "source": [
    "id3 = Id3Estimator()\n",
    "id3_fit = id3.fit(X_tennis, y_tennis)\n",
    "tree_id3 = et_id3(id3_fit.tree_, feature_names=X_tennis.columns.tolist())\n",
    "print(tree_id3)"
   ]
  },
  {
   "cell_type": "markdown",
   "metadata": {},
   "source": [
    "   - #### Fitting with DTL"
   ]
  },
  {
   "cell_type": "code",
   "execution_count": 39,
   "metadata": {},
   "outputs": [
    {
     "name": "stdout",
     "output_type": "stream",
     "text": [
      "|--- outlook <= 0.50\n",
      "|   |--- class: 1\n",
      "|--- outlook >  0.50\n",
      "|   |--- humidity <= 0.50\n",
      "|   |   |--- outlook <= 1.50\n",
      "|   |   |   |--- wind <= 0.50\n",
      "|   |   |   |   |--- class: 0\n",
      "|   |   |   |--- wind >  0.50\n",
      "|   |   |   |   |--- class: 1\n",
      "|   |   |--- outlook >  1.50\n",
      "|   |   |   |--- class: 0\n",
      "|   |--- humidity >  0.50\n",
      "|   |   |--- wind <= 0.50\n",
      "|   |   |   |--- outlook <= 1.50\n",
      "|   |   |   |   |--- class: 0\n",
      "|   |   |   |--- outlook >  1.50\n",
      "|   |   |   |   |--- class: 1\n",
      "|   |   |--- wind >  0.50\n",
      "|   |   |   |--- class: 1\n",
      "\n"
     ]
    }
   ],
   "source": [
    "dtl = DecisionTreeClassifier()\n",
    "dtl_fit = dtl.fit(X_tennis, y_tennis)\n",
    "tree_dtl = et_dtl(dtl_fit, feature_names=X_tennis.columns.tolist())\n",
    "print(tree_dtl)"
   ]
  },
  {
   "cell_type": "markdown",
   "metadata": {},
   "source": [
    "## Menjawab Pertanyaan"
   ]
  },
  {
   "cell_type": "markdown",
   "metadata": {},
   "source": [
    "**Note**: DTL Sklearn menggunakan algoritma CART (Classification and Regression Tree)"
   ]
  },
  {
   "cell_type": "markdown",
   "metadata": {},
   "source": [
    "#### a. Penentuan atribut terbaik"
   ]
  },
  {
   "cell_type": "markdown",
   "metadata": {},
   "source": [
    "##### - DTL (CART)\n",
    "Metode untuk menentukan atribut terbaik pada CART biasa disebut sebagai _splitting criterion_\n",
    "\n",
    "_splitting criterion_ umumnya dan defaultnya menggunakan Gini index sebagai metrik, yang rumusnya dinyatakan sebagai berikut:\n",
    "$$Gini=1-\\Sigma^{C}_{i=1}(p_i)^2$$\n",
    "dimana $i$: value-value pada label\n",
    "\n",
    "Untuk tiap atribut, pada setiap iterasi, dihitung Gini index untuk masing-masing. Atribut terbaik adalah yang Gini indexnya paling tinggi"
   ]
  },
  {
   "cell_type": "markdown",
   "metadata": {},
   "source": [
    "##### - ID3 (Buku)\n",
    "\n",
    "Menggunakan Entropy dan Information Gain\n",
    "\n",
    "$$Entropy=\\Sigma^{C}_{i=1}(-p_i)*log_2(p_i)$$\n",
    "\n",
    "$$Gain(S,A)=Entropy(S)-\\Sigma_{v \\epsilon Values(A)}(\\frac {\\mid S_v \\mid} {\\mid S \\mid})Entropy(S_v)$$\n",
    "\n",
    "Untuk setiap atribut dilakukan perhitungan gain. Atribut terbaik adalah yang memiliki nilai Gain terbesar"
   ]
  },
  {
   "cell_type": "markdown",
   "metadata": {},
   "source": [
    "##### - ID3Estimator (Library)\n",
    "Sama dengan ID3 pada buku"
   ]
  },
  {
   "cell_type": "markdown",
   "metadata": {},
   "source": [
    "#### b. Penanganan label dari cabang setiap nilai atribut"
   ]
  },
  {
   "cell_type": "markdown",
   "metadata": {},
   "source": [
    "##### - DTL (CART)\n",
    "\n",
    "- Jika pada suatu node, _stopping criterion_ yang terdefinisi belum tercapai, maka akan dibuat subtree dibawah cabang tersebut menggunakan atribut dengan gini index tertinggi pada subset data disaat itu.\n",
    "- Jika stopping criterion telah tercapai, maka akan dibuat daun yang menyatakan hasil prediksi.\n",
    "  <br>Diantara stopping criterion yang biasa digunakan:\n",
    "        - Pada suatu node, nilai target variabel sudah identik seluruhnya\n",
    "        - Pada suatu node, nilai variabel yang digunakan untuk splitting sama seluruhnya\n",
    "        "
   ]
  },
  {
   "cell_type": "markdown",
   "metadata": {},
   "source": [
    "##### - ID3 (Buku)\n",
    "- Jika pada cabang nilai atribut, label sudah bisa terprediksi dengan sempurna (Nilai entropi subset data adalah 0 atau 1), maka akan dibuat daun pada _tree_ yang menyatakan hasil prediksi variabel target\n",
    "- Jika pada cabang nilai atribut, label belum bisa terprediksi dengan sempurna (Nilai entropi diantara 1 atau 0), maka akan dibuat _sub-tree_ dibawah cabang yang bersangkutan, dengan cara memilih information gain terbesar dari tiap atribut yang ada pada subset data (dilakukan iterasi atau splitting lebih lanjut)\n"
   ]
  },
  {
   "cell_type": "markdown",
   "metadata": {},
   "source": [
    "##### - ID3Estimator (Library)\n",
    "\n",
    "Sama dengan yang ada pada buku"
   ]
  },
  {
   "cell_type": "markdown",
   "metadata": {},
   "source": [
    "#### c. Penentuan label jika examples kosong di cabang tersebut"
   ]
  },
  {
   "cell_type": "markdown",
   "metadata": {},
   "source": [
    "##### - DTL (CART)\n",
    "\n",
    "Jika example pada suatu cabang node kosong, nilai untuk label akan diambil dari sub-tree (bisa jadi daun) dari _most common class_(kategori yang paling umum) yang ada pada node tsb (dari cabang lain)"
   ]
  },
  {
   "cell_type": "markdown",
   "metadata": {},
   "source": [
    "##### - ID3 (Buku)\n",
    "\n",
    "Jika example pada suatu cabang node kosong, akan mengembalikan pohon dengan node tunggal yang nilai dari target variable-nya adalah _most common value_ dari nilai target variable yang ada pada dataset awal"
   ]
  },
  {
   "cell_type": "markdown",
   "metadata": {},
   "source": [
    "##### - ID3Estimator (Library)\n",
    "\n",
    "sama dengan yang ada pada buku"
   ]
  },
  {
   "cell_type": "markdown",
   "metadata": {},
   "source": [
    "#### d. Penanganan atribut kontinu"
   ]
  },
  {
   "cell_type": "markdown",
   "metadata": {},
   "source": [
    "##### - DTL (CART)\n",
    "\n",
    "Penanganan untuk atribut kontinu sama dengan penanganan untuk atribut kategorikal yang ordinal, yakni dilakukan algoritma sbb:\n",
    "- Dilakukan sorting dari nilai yang paling kecil hingga nilai yang paling besar.\n",
    "- Iterasi tiap nilai, dimulai dari yang paling besar hingga yang paling kecil, untuk menemukan nilai (dari nilai yang ada) yang bisa memaksimalkan _splitting criterion_ yang terdefinisi\n",
    "- Setelah ditemukan nilai _split_ yang optimal, maka splitting akan dilakukan dengan membagi data menjadi \"kurang dari samadengan\" nilai tersebut, dan \"lebih dari\"  nilai tersebut\n"
   ]
  },
  {
   "cell_type": "markdown",
   "metadata": {},
   "source": [
    "##### - ID3 (Buku)\n",
    "\n",
    "Penanganan atribut kontinu adalah dengan membuat partisi-partisi diskrit (range) dari nilai kontinu yang ada. Secara spesifik, untuk sebuah atribut A yang nilainya kontinu dapat dibuat sebuah atribut A' yang nilainya boolean, yakni bernilai benar jika untuk sebuah _threshold_ c, A < c, dan bernilai salah jika sebaliknya. Cara untuk memilih _threshold_ c adalah sbb:\n",
    "- Dilakukan sorting pada atribut yang bersangkutan\n",
    "- Memasukkan setiap nilai yang bersebelahan namun mempunyai nilai target variabel yang berbeda kedalam himpunan kandidat _threshold_\n",
    "- Untuk tiap nilai yang ada pada himpunan kandidat threshold, dihitung information gain yang didapat jika dilakukan splitting dengan _threshold_ tersebut\n",
    "- Nilai _threshold_ dipilih dari kandidat _threshold_ yang menghasilkan information gain paling tinggi"
   ]
  },
  {
   "cell_type": "markdown",
   "metadata": {},
   "source": [
    "##### - ID3Estimator (Library)\n",
    "\n",
    "Sama seperti yang ada pada buku"
   ]
  },
  {
   "cell_type": "markdown",
   "metadata": {},
   "source": [
    "#### e. Penanganan atribut dengan missing values"
   ]
  },
  {
   "cell_type": "markdown",
   "metadata": {},
   "source": [
    "##### - DTL\n",
    "\n",
    "Modul DecisionTreeClassifier yang diberikan tidak dapat menangani kasus apabila menerima dataset yang memiliki missing values. Jadi untuk menggunakan DecisionTreeClassifier ini harus menggunakan dataset yang lengkap atau menangani masalah missing value ini dengan library lain dari scikit (imputation) atau dengan memisahkan data missing values dari dataset yang akan digunakan."
   ]
  },
  {
   "cell_type": "markdown",
   "metadata": {},
   "source": [
    "##### - ID3\n",
    "\n",
    "Berdasarkan buku Tom Mitchel, ID3 dapat menangani missing attribut values dengan menggunakan dua cara, yaitu :\n",
    "1. Most common value :\n",
    "    Mengganti missing values dengan nilai most common suatu atribut pada node n.\n",
    "2. Probability :\n",
    "    Melakukan perhitungan probabilitas dari setiap values sebuah atribut. fraksional dari hasil probabilitas yang didapat akan digunakan untuk melakukan perhitungan information gain."
   ]
  },
  {
   "cell_type": "markdown",
   "metadata": {},
   "source": [
    "##### - ID3Estimator (Library)\n",
    "\n",
    "Terdapat dua cara penanganan untuk mengatasi masalah missing attribute value :\n",
    "Cara pertama yaitu exclude missing value dari perhitungan membuat cabang. \n",
    "Cara kedua yaitu include missing value sebagai sebuah nilai berbeda dari atribut tersebut.\n",
    "\n",
    "Dari kedua cara akan dibandingkan hasil information gainnya, kemudian dipilih berdasarkan information gain yang lebih besar. "
   ]
  },
  {
   "cell_type": "markdown",
   "metadata": {},
   "source": [
    "#### f. Pruning dan parameter confidence"
   ]
  },
  {
   "cell_type": "markdown",
   "metadata": {},
   "source": [
    "##### - DTL (CART)\n",
    "\n",
    "metode pruning menggunakan minimal cost complexity, simpul terlemah akan dipruning terlebih dahulu.\n",
    "\n",
    "mencegah overfitting dan mengontrol ukuran pohon digunakan parameter min_samples_leaf, max_depth, cost complexity parameter (ccp_alpha)\n",
    "semakin tinggi ccp_alpha tingkat impurities semakin tinggi"
   ]
  },
  {
   "cell_type": "markdown",
   "metadata": {},
   "source": [
    "##### - ID3 (Buku)\n",
    "\n",
    "Metode reduced-error pruning menggunakan training data dan validation data. Parameter confidencenya adalah minimum description length (MDL)\n",
    "\n",
    "tidak ada parameter yang _customizable_ pada algoritma yang tertulis pada buku"
   ]
  },
  {
   "cell_type": "markdown",
   "metadata": {},
   "source": [
    "##### - ID3Estimator (Library)\n",
    "\n",
    "metode reduced-error pruning, operasi pruning akan dilakukan jika nilai error dari decision tree awal melebihi nilai error dari versi pruned decision tree\n",
    "\n",
    "parameter yang mengatur ukuran pohon adalah max_depth, min_entropy_decrease, prune, gain_ratio, is_repeating, dan min_samples_split"
   ]
  }
 ],
 "metadata": {
  "kernelspec": {
   "display_name": "Python 3",
   "language": "python",
   "name": "python3"
  },
  "language_info": {
   "codemirror_mode": {
    "name": "ipython",
    "version": 2
   },
   "file_extension": ".py",
   "mimetype": "text/x-python",
   "name": "python",
   "nbconvert_exporter": "python",
   "pygments_lexer": "ipython2",
   "version": "2.7.17"
  }
 },
 "nbformat": 4,
 "nbformat_minor": 2
}
